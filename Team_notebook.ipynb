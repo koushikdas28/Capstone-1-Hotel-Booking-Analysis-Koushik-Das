{
  "nbformat": 4,
  "nbformat_minor": 0,
  "metadata": {
    "kernelspec": {
      "display_name": "Python 3",
      "language": "python",
      "name": "python3"
    },
    "language_info": {
      "codemirror_mode": {
        "name": "ipython",
        "version": 3
      },
      "file_extension": ".py",
      "mimetype": "text/x-python",
      "name": "python",
      "nbconvert_exporter": "python",
      "pygments_lexer": "ipython3",
      "version": "3.6.6"
    },
    "colab": {
      "provenance": [],
      "collapsed_sections": [],
      "include_colab_link": true
    }
  },
  "cells": [
    {
      "cell_type": "markdown",
      "metadata": {
        "id": "view-in-github",
        "colab_type": "text"
      },
      "source": [
        "<a href=\"https://colab.research.google.com/github/koushikdas28/Capstone-1-Hotel-Booking-Analysis-Koushik-Das/blob/main/Team_notebook.ipynb\" target=\"_parent\"><img src=\"https://colab.research.google.com/assets/colab-badge.svg\" alt=\"Open In Colab\"/></a>"
      ]
    },
    {
      "cell_type": "markdown",
      "metadata": {
        "id": "Y06xIdG26kRF"
      },
      "source": [
        "## <b> Have you ever wondered when the best time of year to book a hotel room is? Or the optimal length of stay in order to get the best daily rate? What if you wanted to predict whether or not a hotel was likely to receive a disproportionately high number of special requests? This hotel booking dataset can help you explore those questions!\n",
        "\n",
        "## <b>This data set contains booking information for a city hotel and a resort hotel, and includes information such as when the booking was made, length of stay, the number of adults, children, and/or babies, and the number of available parking spaces, among other things. All personally identifying information has been removed from the data. </b>\n",
        "\n",
        "## <b> Explore and analyze the data to discover important factors that govern the bookings. </b>"
      ]
    },
    {
      "cell_type": "code",
      "metadata": {
        "id": "dByMsuzT8Tnw"
      },
      "source": [
        "import numpy as np\n",
        "import pandas as pd\n",
        "import seaborn as sns\n",
        "import matplotlib.pyplot as plt\n",
        "%matplotlib inline"
      ],
      "execution_count": null,
      "outputs": []
    },
    {
      "cell_type": "code",
      "source": [
        "#Mounting drive\n",
        "from google.colab import drive\n",
        "drive.mount('/content/drive')"
      ],
      "metadata": {
        "id": "yF5sfLpuIufJ",
        "colab": {
          "base_uri": "https://localhost:8080/"
        },
        "outputId": "5e89ad21-0372-438f-f9b7-b0cd3a95899a"
      },
      "execution_count": null,
      "outputs": [
        {
          "output_type": "stream",
          "name": "stdout",
          "text": [
            "Mounted at /content/drive\n"
          ]
        }
      ]
    },
    {
      "cell_type": "code",
      "source": [
        "work_dir_path='/content/drive/MyDrive/Colab Notebooks/Team Capstone project-1/'"
      ],
      "metadata": {
        "id": "yQQtNxeOHmwg"
      },
      "execution_count": null,
      "outputs": []
    },
    {
      "cell_type": "code",
      "source": [
        "#Read the dataset\n",
        "df=pd.read_csv(work_dir_path +'Hotel Bookings.csv')"
      ],
      "metadata": {
        "id": "i7Ob4IdGHm7_"
      },
      "execution_count": null,
      "outputs": []
    },
    {
      "cell_type": "code",
      "source": [
        "df.head()"
      ],
      "metadata": {
        "id": "iRdwDobjNHXx",
        "colab": {
          "base_uri": "https://localhost:8080/",
          "height": 386
        },
        "outputId": "dd097527-8765-4e67-a04b-6dab79ece41b"
      },
      "execution_count": null,
      "outputs": [
        {
          "output_type": "execute_result",
          "data": {
            "text/plain": [
              "          hotel  is_canceled  lead_time  arrival_date_year arrival_date_month  \\\n",
              "0  Resort Hotel            0        342               2015               July   \n",
              "1  Resort Hotel            0        737               2015               July   \n",
              "2  Resort Hotel            0          7               2015               July   \n",
              "3  Resort Hotel            0         13               2015               July   \n",
              "4  Resort Hotel            0         14               2015               July   \n",
              "\n",
              "   arrival_date_week_number  arrival_date_day_of_month  \\\n",
              "0                        27                          1   \n",
              "1                        27                          1   \n",
              "2                        27                          1   \n",
              "3                        27                          1   \n",
              "4                        27                          1   \n",
              "\n",
              "   stays_in_weekend_nights  stays_in_week_nights  adults  ...  deposit_type  \\\n",
              "0                        0                     0       2  ...    No Deposit   \n",
              "1                        0                     0       2  ...    No Deposit   \n",
              "2                        0                     1       1  ...    No Deposit   \n",
              "3                        0                     1       1  ...    No Deposit   \n",
              "4                        0                     2       2  ...    No Deposit   \n",
              "\n",
              "   agent company days_in_waiting_list customer_type   adr  \\\n",
              "0    NaN     NaN                    0     Transient   0.0   \n",
              "1    NaN     NaN                    0     Transient   0.0   \n",
              "2    NaN     NaN                    0     Transient  75.0   \n",
              "3  304.0     NaN                    0     Transient  75.0   \n",
              "4  240.0     NaN                    0     Transient  98.0   \n",
              "\n",
              "   required_car_parking_spaces  total_of_special_requests  reservation_status  \\\n",
              "0                            0                          0           Check-Out   \n",
              "1                            0                          0           Check-Out   \n",
              "2                            0                          0           Check-Out   \n",
              "3                            0                          0           Check-Out   \n",
              "4                            0                          1           Check-Out   \n",
              "\n",
              "  reservation_status_date  \n",
              "0              2015-07-01  \n",
              "1              2015-07-01  \n",
              "2              2015-07-02  \n",
              "3              2015-07-02  \n",
              "4              2015-07-03  \n",
              "\n",
              "[5 rows x 32 columns]"
            ],
            "text/html": [
              "\n",
              "  <div id=\"df-88556d12-7306-4d3f-9692-9ba42ef924a6\">\n",
              "    <div class=\"colab-df-container\">\n",
              "      <div>\n",
              "<style scoped>\n",
              "    .dataframe tbody tr th:only-of-type {\n",
              "        vertical-align: middle;\n",
              "    }\n",
              "\n",
              "    .dataframe tbody tr th {\n",
              "        vertical-align: top;\n",
              "    }\n",
              "\n",
              "    .dataframe thead th {\n",
              "        text-align: right;\n",
              "    }\n",
              "</style>\n",
              "<table border=\"1\" class=\"dataframe\">\n",
              "  <thead>\n",
              "    <tr style=\"text-align: right;\">\n",
              "      <th></th>\n",
              "      <th>hotel</th>\n",
              "      <th>is_canceled</th>\n",
              "      <th>lead_time</th>\n",
              "      <th>arrival_date_year</th>\n",
              "      <th>arrival_date_month</th>\n",
              "      <th>arrival_date_week_number</th>\n",
              "      <th>arrival_date_day_of_month</th>\n",
              "      <th>stays_in_weekend_nights</th>\n",
              "      <th>stays_in_week_nights</th>\n",
              "      <th>adults</th>\n",
              "      <th>...</th>\n",
              "      <th>deposit_type</th>\n",
              "      <th>agent</th>\n",
              "      <th>company</th>\n",
              "      <th>days_in_waiting_list</th>\n",
              "      <th>customer_type</th>\n",
              "      <th>adr</th>\n",
              "      <th>required_car_parking_spaces</th>\n",
              "      <th>total_of_special_requests</th>\n",
              "      <th>reservation_status</th>\n",
              "      <th>reservation_status_date</th>\n",
              "    </tr>\n",
              "  </thead>\n",
              "  <tbody>\n",
              "    <tr>\n",
              "      <th>0</th>\n",
              "      <td>Resort Hotel</td>\n",
              "      <td>0</td>\n",
              "      <td>342</td>\n",
              "      <td>2015</td>\n",
              "      <td>July</td>\n",
              "      <td>27</td>\n",
              "      <td>1</td>\n",
              "      <td>0</td>\n",
              "      <td>0</td>\n",
              "      <td>2</td>\n",
              "      <td>...</td>\n",
              "      <td>No Deposit</td>\n",
              "      <td>NaN</td>\n",
              "      <td>NaN</td>\n",
              "      <td>0</td>\n",
              "      <td>Transient</td>\n",
              "      <td>0.0</td>\n",
              "      <td>0</td>\n",
              "      <td>0</td>\n",
              "      <td>Check-Out</td>\n",
              "      <td>2015-07-01</td>\n",
              "    </tr>\n",
              "    <tr>\n",
              "      <th>1</th>\n",
              "      <td>Resort Hotel</td>\n",
              "      <td>0</td>\n",
              "      <td>737</td>\n",
              "      <td>2015</td>\n",
              "      <td>July</td>\n",
              "      <td>27</td>\n",
              "      <td>1</td>\n",
              "      <td>0</td>\n",
              "      <td>0</td>\n",
              "      <td>2</td>\n",
              "      <td>...</td>\n",
              "      <td>No Deposit</td>\n",
              "      <td>NaN</td>\n",
              "      <td>NaN</td>\n",
              "      <td>0</td>\n",
              "      <td>Transient</td>\n",
              "      <td>0.0</td>\n",
              "      <td>0</td>\n",
              "      <td>0</td>\n",
              "      <td>Check-Out</td>\n",
              "      <td>2015-07-01</td>\n",
              "    </tr>\n",
              "    <tr>\n",
              "      <th>2</th>\n",
              "      <td>Resort Hotel</td>\n",
              "      <td>0</td>\n",
              "      <td>7</td>\n",
              "      <td>2015</td>\n",
              "      <td>July</td>\n",
              "      <td>27</td>\n",
              "      <td>1</td>\n",
              "      <td>0</td>\n",
              "      <td>1</td>\n",
              "      <td>1</td>\n",
              "      <td>...</td>\n",
              "      <td>No Deposit</td>\n",
              "      <td>NaN</td>\n",
              "      <td>NaN</td>\n",
              "      <td>0</td>\n",
              "      <td>Transient</td>\n",
              "      <td>75.0</td>\n",
              "      <td>0</td>\n",
              "      <td>0</td>\n",
              "      <td>Check-Out</td>\n",
              "      <td>2015-07-02</td>\n",
              "    </tr>\n",
              "    <tr>\n",
              "      <th>3</th>\n",
              "      <td>Resort Hotel</td>\n",
              "      <td>0</td>\n",
              "      <td>13</td>\n",
              "      <td>2015</td>\n",
              "      <td>July</td>\n",
              "      <td>27</td>\n",
              "      <td>1</td>\n",
              "      <td>0</td>\n",
              "      <td>1</td>\n",
              "      <td>1</td>\n",
              "      <td>...</td>\n",
              "      <td>No Deposit</td>\n",
              "      <td>304.0</td>\n",
              "      <td>NaN</td>\n",
              "      <td>0</td>\n",
              "      <td>Transient</td>\n",
              "      <td>75.0</td>\n",
              "      <td>0</td>\n",
              "      <td>0</td>\n",
              "      <td>Check-Out</td>\n",
              "      <td>2015-07-02</td>\n",
              "    </tr>\n",
              "    <tr>\n",
              "      <th>4</th>\n",
              "      <td>Resort Hotel</td>\n",
              "      <td>0</td>\n",
              "      <td>14</td>\n",
              "      <td>2015</td>\n",
              "      <td>July</td>\n",
              "      <td>27</td>\n",
              "      <td>1</td>\n",
              "      <td>0</td>\n",
              "      <td>2</td>\n",
              "      <td>2</td>\n",
              "      <td>...</td>\n",
              "      <td>No Deposit</td>\n",
              "      <td>240.0</td>\n",
              "      <td>NaN</td>\n",
              "      <td>0</td>\n",
              "      <td>Transient</td>\n",
              "      <td>98.0</td>\n",
              "      <td>0</td>\n",
              "      <td>1</td>\n",
              "      <td>Check-Out</td>\n",
              "      <td>2015-07-03</td>\n",
              "    </tr>\n",
              "  </tbody>\n",
              "</table>\n",
              "<p>5 rows × 32 columns</p>\n",
              "</div>\n",
              "      <button class=\"colab-df-convert\" onclick=\"convertToInteractive('df-88556d12-7306-4d3f-9692-9ba42ef924a6')\"\n",
              "              title=\"Convert this dataframe to an interactive table.\"\n",
              "              style=\"display:none;\">\n",
              "        \n",
              "  <svg xmlns=\"http://www.w3.org/2000/svg\" height=\"24px\"viewBox=\"0 0 24 24\"\n",
              "       width=\"24px\">\n",
              "    <path d=\"M0 0h24v24H0V0z\" fill=\"none\"/>\n",
              "    <path d=\"M18.56 5.44l.94 2.06.94-2.06 2.06-.94-2.06-.94-.94-2.06-.94 2.06-2.06.94zm-11 1L8.5 8.5l.94-2.06 2.06-.94-2.06-.94L8.5 2.5l-.94 2.06-2.06.94zm10 10l.94 2.06.94-2.06 2.06-.94-2.06-.94-.94-2.06-.94 2.06-2.06.94z\"/><path d=\"M17.41 7.96l-1.37-1.37c-.4-.4-.92-.59-1.43-.59-.52 0-1.04.2-1.43.59L10.3 9.45l-7.72 7.72c-.78.78-.78 2.05 0 2.83L4 21.41c.39.39.9.59 1.41.59.51 0 1.02-.2 1.41-.59l7.78-7.78 2.81-2.81c.8-.78.8-2.07 0-2.86zM5.41 20L4 18.59l7.72-7.72 1.47 1.35L5.41 20z\"/>\n",
              "  </svg>\n",
              "      </button>\n",
              "      \n",
              "  <style>\n",
              "    .colab-df-container {\n",
              "      display:flex;\n",
              "      flex-wrap:wrap;\n",
              "      gap: 12px;\n",
              "    }\n",
              "\n",
              "    .colab-df-convert {\n",
              "      background-color: #E8F0FE;\n",
              "      border: none;\n",
              "      border-radius: 50%;\n",
              "      cursor: pointer;\n",
              "      display: none;\n",
              "      fill: #1967D2;\n",
              "      height: 32px;\n",
              "      padding: 0 0 0 0;\n",
              "      width: 32px;\n",
              "    }\n",
              "\n",
              "    .colab-df-convert:hover {\n",
              "      background-color: #E2EBFA;\n",
              "      box-shadow: 0px 1px 2px rgba(60, 64, 67, 0.3), 0px 1px 3px 1px rgba(60, 64, 67, 0.15);\n",
              "      fill: #174EA6;\n",
              "    }\n",
              "\n",
              "    [theme=dark] .colab-df-convert {\n",
              "      background-color: #3B4455;\n",
              "      fill: #D2E3FC;\n",
              "    }\n",
              "\n",
              "    [theme=dark] .colab-df-convert:hover {\n",
              "      background-color: #434B5C;\n",
              "      box-shadow: 0px 1px 3px 1px rgba(0, 0, 0, 0.15);\n",
              "      filter: drop-shadow(0px 1px 2px rgba(0, 0, 0, 0.3));\n",
              "      fill: #FFFFFF;\n",
              "    }\n",
              "  </style>\n",
              "\n",
              "      <script>\n",
              "        const buttonEl =\n",
              "          document.querySelector('#df-88556d12-7306-4d3f-9692-9ba42ef924a6 button.colab-df-convert');\n",
              "        buttonEl.style.display =\n",
              "          google.colab.kernel.accessAllowed ? 'block' : 'none';\n",
              "\n",
              "        async function convertToInteractive(key) {\n",
              "          const element = document.querySelector('#df-88556d12-7306-4d3f-9692-9ba42ef924a6');\n",
              "          const dataTable =\n",
              "            await google.colab.kernel.invokeFunction('convertToInteractive',\n",
              "                                                     [key], {});\n",
              "          if (!dataTable) return;\n",
              "\n",
              "          const docLinkHtml = 'Like what you see? Visit the ' +\n",
              "            '<a target=\"_blank\" href=https://colab.research.google.com/notebooks/data_table.ipynb>data table notebook</a>'\n",
              "            + ' to learn more about interactive tables.';\n",
              "          element.innerHTML = '';\n",
              "          dataTable['output_type'] = 'display_data';\n",
              "          await google.colab.output.renderOutput(dataTable, element);\n",
              "          const docLink = document.createElement('div');\n",
              "          docLink.innerHTML = docLinkHtml;\n",
              "          element.appendChild(docLink);\n",
              "        }\n",
              "      </script>\n",
              "    </div>\n",
              "  </div>\n",
              "  "
            ]
          },
          "metadata": {},
          "execution_count": 5
        }
      ]
    },
    {
      "cell_type": "code",
      "source": [
        "df.tail()"
      ],
      "metadata": {
        "colab": {
          "base_uri": "https://localhost:8080/",
          "height": 386
        },
        "id": "i0utS3TPUP0o",
        "outputId": "f95a0e84-291d-4327-abc8-694c3c577b35"
      },
      "execution_count": null,
      "outputs": [
        {
          "output_type": "execute_result",
          "data": {
            "text/plain": [
              "             hotel  is_canceled  lead_time  arrival_date_year  \\\n",
              "119385  City Hotel            0         23               2017   \n",
              "119386  City Hotel            0        102               2017   \n",
              "119387  City Hotel            0         34               2017   \n",
              "119388  City Hotel            0        109               2017   \n",
              "119389  City Hotel            0        205               2017   \n",
              "\n",
              "       arrival_date_month  arrival_date_week_number  \\\n",
              "119385             August                        35   \n",
              "119386             August                        35   \n",
              "119387             August                        35   \n",
              "119388             August                        35   \n",
              "119389             August                        35   \n",
              "\n",
              "        arrival_date_day_of_month  stays_in_weekend_nights  \\\n",
              "119385                         30                        2   \n",
              "119386                         31                        2   \n",
              "119387                         31                        2   \n",
              "119388                         31                        2   \n",
              "119389                         29                        2   \n",
              "\n",
              "        stays_in_week_nights  adults  ...  deposit_type  agent company  \\\n",
              "119385                     5       2  ...    No Deposit  394.0     NaN   \n",
              "119386                     5       3  ...    No Deposit    9.0     NaN   \n",
              "119387                     5       2  ...    No Deposit    9.0     NaN   \n",
              "119388                     5       2  ...    No Deposit   89.0     NaN   \n",
              "119389                     7       2  ...    No Deposit    9.0     NaN   \n",
              "\n",
              "       days_in_waiting_list customer_type     adr  \\\n",
              "119385                    0     Transient   96.14   \n",
              "119386                    0     Transient  225.43   \n",
              "119387                    0     Transient  157.71   \n",
              "119388                    0     Transient  104.40   \n",
              "119389                    0     Transient  151.20   \n",
              "\n",
              "        required_car_parking_spaces  total_of_special_requests  \\\n",
              "119385                            0                          0   \n",
              "119386                            0                          2   \n",
              "119387                            0                          4   \n",
              "119388                            0                          0   \n",
              "119389                            0                          2   \n",
              "\n",
              "        reservation_status reservation_status_date  \n",
              "119385           Check-Out              2017-09-06  \n",
              "119386           Check-Out              2017-09-07  \n",
              "119387           Check-Out              2017-09-07  \n",
              "119388           Check-Out              2017-09-07  \n",
              "119389           Check-Out              2017-09-07  \n",
              "\n",
              "[5 rows x 32 columns]"
            ],
            "text/html": [
              "\n",
              "  <div id=\"df-37cd92f6-6022-41c8-8c63-66dc9edef186\">\n",
              "    <div class=\"colab-df-container\">\n",
              "      <div>\n",
              "<style scoped>\n",
              "    .dataframe tbody tr th:only-of-type {\n",
              "        vertical-align: middle;\n",
              "    }\n",
              "\n",
              "    .dataframe tbody tr th {\n",
              "        vertical-align: top;\n",
              "    }\n",
              "\n",
              "    .dataframe thead th {\n",
              "        text-align: right;\n",
              "    }\n",
              "</style>\n",
              "<table border=\"1\" class=\"dataframe\">\n",
              "  <thead>\n",
              "    <tr style=\"text-align: right;\">\n",
              "      <th></th>\n",
              "      <th>hotel</th>\n",
              "      <th>is_canceled</th>\n",
              "      <th>lead_time</th>\n",
              "      <th>arrival_date_year</th>\n",
              "      <th>arrival_date_month</th>\n",
              "      <th>arrival_date_week_number</th>\n",
              "      <th>arrival_date_day_of_month</th>\n",
              "      <th>stays_in_weekend_nights</th>\n",
              "      <th>stays_in_week_nights</th>\n",
              "      <th>adults</th>\n",
              "      <th>...</th>\n",
              "      <th>deposit_type</th>\n",
              "      <th>agent</th>\n",
              "      <th>company</th>\n",
              "      <th>days_in_waiting_list</th>\n",
              "      <th>customer_type</th>\n",
              "      <th>adr</th>\n",
              "      <th>required_car_parking_spaces</th>\n",
              "      <th>total_of_special_requests</th>\n",
              "      <th>reservation_status</th>\n",
              "      <th>reservation_status_date</th>\n",
              "    </tr>\n",
              "  </thead>\n",
              "  <tbody>\n",
              "    <tr>\n",
              "      <th>119385</th>\n",
              "      <td>City Hotel</td>\n",
              "      <td>0</td>\n",
              "      <td>23</td>\n",
              "      <td>2017</td>\n",
              "      <td>August</td>\n",
              "      <td>35</td>\n",
              "      <td>30</td>\n",
              "      <td>2</td>\n",
              "      <td>5</td>\n",
              "      <td>2</td>\n",
              "      <td>...</td>\n",
              "      <td>No Deposit</td>\n",
              "      <td>394.0</td>\n",
              "      <td>NaN</td>\n",
              "      <td>0</td>\n",
              "      <td>Transient</td>\n",
              "      <td>96.14</td>\n",
              "      <td>0</td>\n",
              "      <td>0</td>\n",
              "      <td>Check-Out</td>\n",
              "      <td>2017-09-06</td>\n",
              "    </tr>\n",
              "    <tr>\n",
              "      <th>119386</th>\n",
              "      <td>City Hotel</td>\n",
              "      <td>0</td>\n",
              "      <td>102</td>\n",
              "      <td>2017</td>\n",
              "      <td>August</td>\n",
              "      <td>35</td>\n",
              "      <td>31</td>\n",
              "      <td>2</td>\n",
              "      <td>5</td>\n",
              "      <td>3</td>\n",
              "      <td>...</td>\n",
              "      <td>No Deposit</td>\n",
              "      <td>9.0</td>\n",
              "      <td>NaN</td>\n",
              "      <td>0</td>\n",
              "      <td>Transient</td>\n",
              "      <td>225.43</td>\n",
              "      <td>0</td>\n",
              "      <td>2</td>\n",
              "      <td>Check-Out</td>\n",
              "      <td>2017-09-07</td>\n",
              "    </tr>\n",
              "    <tr>\n",
              "      <th>119387</th>\n",
              "      <td>City Hotel</td>\n",
              "      <td>0</td>\n",
              "      <td>34</td>\n",
              "      <td>2017</td>\n",
              "      <td>August</td>\n",
              "      <td>35</td>\n",
              "      <td>31</td>\n",
              "      <td>2</td>\n",
              "      <td>5</td>\n",
              "      <td>2</td>\n",
              "      <td>...</td>\n",
              "      <td>No Deposit</td>\n",
              "      <td>9.0</td>\n",
              "      <td>NaN</td>\n",
              "      <td>0</td>\n",
              "      <td>Transient</td>\n",
              "      <td>157.71</td>\n",
              "      <td>0</td>\n",
              "      <td>4</td>\n",
              "      <td>Check-Out</td>\n",
              "      <td>2017-09-07</td>\n",
              "    </tr>\n",
              "    <tr>\n",
              "      <th>119388</th>\n",
              "      <td>City Hotel</td>\n",
              "      <td>0</td>\n",
              "      <td>109</td>\n",
              "      <td>2017</td>\n",
              "      <td>August</td>\n",
              "      <td>35</td>\n",
              "      <td>31</td>\n",
              "      <td>2</td>\n",
              "      <td>5</td>\n",
              "      <td>2</td>\n",
              "      <td>...</td>\n",
              "      <td>No Deposit</td>\n",
              "      <td>89.0</td>\n",
              "      <td>NaN</td>\n",
              "      <td>0</td>\n",
              "      <td>Transient</td>\n",
              "      <td>104.40</td>\n",
              "      <td>0</td>\n",
              "      <td>0</td>\n",
              "      <td>Check-Out</td>\n",
              "      <td>2017-09-07</td>\n",
              "    </tr>\n",
              "    <tr>\n",
              "      <th>119389</th>\n",
              "      <td>City Hotel</td>\n",
              "      <td>0</td>\n",
              "      <td>205</td>\n",
              "      <td>2017</td>\n",
              "      <td>August</td>\n",
              "      <td>35</td>\n",
              "      <td>29</td>\n",
              "      <td>2</td>\n",
              "      <td>7</td>\n",
              "      <td>2</td>\n",
              "      <td>...</td>\n",
              "      <td>No Deposit</td>\n",
              "      <td>9.0</td>\n",
              "      <td>NaN</td>\n",
              "      <td>0</td>\n",
              "      <td>Transient</td>\n",
              "      <td>151.20</td>\n",
              "      <td>0</td>\n",
              "      <td>2</td>\n",
              "      <td>Check-Out</td>\n",
              "      <td>2017-09-07</td>\n",
              "    </tr>\n",
              "  </tbody>\n",
              "</table>\n",
              "<p>5 rows × 32 columns</p>\n",
              "</div>\n",
              "      <button class=\"colab-df-convert\" onclick=\"convertToInteractive('df-37cd92f6-6022-41c8-8c63-66dc9edef186')\"\n",
              "              title=\"Convert this dataframe to an interactive table.\"\n",
              "              style=\"display:none;\">\n",
              "        \n",
              "  <svg xmlns=\"http://www.w3.org/2000/svg\" height=\"24px\"viewBox=\"0 0 24 24\"\n",
              "       width=\"24px\">\n",
              "    <path d=\"M0 0h24v24H0V0z\" fill=\"none\"/>\n",
              "    <path d=\"M18.56 5.44l.94 2.06.94-2.06 2.06-.94-2.06-.94-.94-2.06-.94 2.06-2.06.94zm-11 1L8.5 8.5l.94-2.06 2.06-.94-2.06-.94L8.5 2.5l-.94 2.06-2.06.94zm10 10l.94 2.06.94-2.06 2.06-.94-2.06-.94-.94-2.06-.94 2.06-2.06.94z\"/><path d=\"M17.41 7.96l-1.37-1.37c-.4-.4-.92-.59-1.43-.59-.52 0-1.04.2-1.43.59L10.3 9.45l-7.72 7.72c-.78.78-.78 2.05 0 2.83L4 21.41c.39.39.9.59 1.41.59.51 0 1.02-.2 1.41-.59l7.78-7.78 2.81-2.81c.8-.78.8-2.07 0-2.86zM5.41 20L4 18.59l7.72-7.72 1.47 1.35L5.41 20z\"/>\n",
              "  </svg>\n",
              "      </button>\n",
              "      \n",
              "  <style>\n",
              "    .colab-df-container {\n",
              "      display:flex;\n",
              "      flex-wrap:wrap;\n",
              "      gap: 12px;\n",
              "    }\n",
              "\n",
              "    .colab-df-convert {\n",
              "      background-color: #E8F0FE;\n",
              "      border: none;\n",
              "      border-radius: 50%;\n",
              "      cursor: pointer;\n",
              "      display: none;\n",
              "      fill: #1967D2;\n",
              "      height: 32px;\n",
              "      padding: 0 0 0 0;\n",
              "      width: 32px;\n",
              "    }\n",
              "\n",
              "    .colab-df-convert:hover {\n",
              "      background-color: #E2EBFA;\n",
              "      box-shadow: 0px 1px 2px rgba(60, 64, 67, 0.3), 0px 1px 3px 1px rgba(60, 64, 67, 0.15);\n",
              "      fill: #174EA6;\n",
              "    }\n",
              "\n",
              "    [theme=dark] .colab-df-convert {\n",
              "      background-color: #3B4455;\n",
              "      fill: #D2E3FC;\n",
              "    }\n",
              "\n",
              "    [theme=dark] .colab-df-convert:hover {\n",
              "      background-color: #434B5C;\n",
              "      box-shadow: 0px 1px 3px 1px rgba(0, 0, 0, 0.15);\n",
              "      filter: drop-shadow(0px 1px 2px rgba(0, 0, 0, 0.3));\n",
              "      fill: #FFFFFF;\n",
              "    }\n",
              "  </style>\n",
              "\n",
              "      <script>\n",
              "        const buttonEl =\n",
              "          document.querySelector('#df-37cd92f6-6022-41c8-8c63-66dc9edef186 button.colab-df-convert');\n",
              "        buttonEl.style.display =\n",
              "          google.colab.kernel.accessAllowed ? 'block' : 'none';\n",
              "\n",
              "        async function convertToInteractive(key) {\n",
              "          const element = document.querySelector('#df-37cd92f6-6022-41c8-8c63-66dc9edef186');\n",
              "          const dataTable =\n",
              "            await google.colab.kernel.invokeFunction('convertToInteractive',\n",
              "                                                     [key], {});\n",
              "          if (!dataTable) return;\n",
              "\n",
              "          const docLinkHtml = 'Like what you see? Visit the ' +\n",
              "            '<a target=\"_blank\" href=https://colab.research.google.com/notebooks/data_table.ipynb>data table notebook</a>'\n",
              "            + ' to learn more about interactive tables.';\n",
              "          element.innerHTML = '';\n",
              "          dataTable['output_type'] = 'display_data';\n",
              "          await google.colab.output.renderOutput(dataTable, element);\n",
              "          const docLink = document.createElement('div');\n",
              "          docLink.innerHTML = docLinkHtml;\n",
              "          element.appendChild(docLink);\n",
              "        }\n",
              "      </script>\n",
              "    </div>\n",
              "  </div>\n",
              "  "
            ]
          },
          "metadata": {},
          "execution_count": 6
        }
      ]
    },
    {
      "cell_type": "code",
      "source": [
        "df.info()"
      ],
      "metadata": {
        "colab": {
          "base_uri": "https://localhost:8080/"
        },
        "id": "0KfJxUHmUXmJ",
        "outputId": "f8883d81-abb2-4781-dd0c-265f4dc1dc00"
      },
      "execution_count": null,
      "outputs": [
        {
          "output_type": "stream",
          "name": "stdout",
          "text": [
            "<class 'pandas.core.frame.DataFrame'>\n",
            "RangeIndex: 119390 entries, 0 to 119389\n",
            "Data columns (total 32 columns):\n",
            " #   Column                          Non-Null Count   Dtype  \n",
            "---  ------                          --------------   -----  \n",
            " 0   hotel                           119390 non-null  object \n",
            " 1   is_canceled                     119390 non-null  int64  \n",
            " 2   lead_time                       119390 non-null  int64  \n",
            " 3   arrival_date_year               119390 non-null  int64  \n",
            " 4   arrival_date_month              119390 non-null  object \n",
            " 5   arrival_date_week_number        119390 non-null  int64  \n",
            " 6   arrival_date_day_of_month       119390 non-null  int64  \n",
            " 7   stays_in_weekend_nights         119390 non-null  int64  \n",
            " 8   stays_in_week_nights            119390 non-null  int64  \n",
            " 9   adults                          119390 non-null  int64  \n",
            " 10  children                        119386 non-null  float64\n",
            " 11  babies                          119390 non-null  int64  \n",
            " 12  meal                            119390 non-null  object \n",
            " 13  country                         118902 non-null  object \n",
            " 14  market_segment                  119390 non-null  object \n",
            " 15  distribution_channel            119390 non-null  object \n",
            " 16  is_repeated_guest               119390 non-null  int64  \n",
            " 17  previous_cancellations          119390 non-null  int64  \n",
            " 18  previous_bookings_not_canceled  119390 non-null  int64  \n",
            " 19  reserved_room_type              119390 non-null  object \n",
            " 20  assigned_room_type              119390 non-null  object \n",
            " 21  booking_changes                 119390 non-null  int64  \n",
            " 22  deposit_type                    119390 non-null  object \n",
            " 23  agent                           103050 non-null  float64\n",
            " 24  company                         6797 non-null    float64\n",
            " 25  days_in_waiting_list            119390 non-null  int64  \n",
            " 26  customer_type                   119390 non-null  object \n",
            " 27  adr                             119390 non-null  float64\n",
            " 28  required_car_parking_spaces     119390 non-null  int64  \n",
            " 29  total_of_special_requests       119390 non-null  int64  \n",
            " 30  reservation_status              119390 non-null  object \n",
            " 31  reservation_status_date         119390 non-null  object \n",
            "dtypes: float64(4), int64(16), object(12)\n",
            "memory usage: 29.1+ MB\n"
          ]
        }
      ]
    },
    {
      "cell_type": "markdown",
      "source": [
        "We observing that there are 119390 rows and 32 coloumns in the given dataset.\n",
        "Also there are some columns like 'children', 'company', 'country' and 'agent' have null values in the given dataframe.\n"
      ],
      "metadata": {
        "id": "mKST4e2e5aJ1"
      }
    },
    {
      "cell_type": "code",
      "source": [
        "df.describe()"
      ],
      "metadata": {
        "colab": {
          "base_uri": "https://localhost:8080/",
          "height": 364
        },
        "id": "WuYazDyS6a5C",
        "outputId": "67e9e582-2cc1-4a53-95a7-2be4724f471d"
      },
      "execution_count": null,
      "outputs": [
        {
          "output_type": "execute_result",
          "data": {
            "text/plain": [
              "         is_canceled      lead_time  arrival_date_year  \\\n",
              "count  119390.000000  119390.000000      119390.000000   \n",
              "mean        0.370416     104.011416        2016.156554   \n",
              "std         0.482918     106.863097           0.707476   \n",
              "min         0.000000       0.000000        2015.000000   \n",
              "25%         0.000000      18.000000        2016.000000   \n",
              "50%         0.000000      69.000000        2016.000000   \n",
              "75%         1.000000     160.000000        2017.000000   \n",
              "max         1.000000     737.000000        2017.000000   \n",
              "\n",
              "       arrival_date_week_number  arrival_date_day_of_month  \\\n",
              "count             119390.000000              119390.000000   \n",
              "mean                  27.165173                  15.798241   \n",
              "std                   13.605138                   8.780829   \n",
              "min                    1.000000                   1.000000   \n",
              "25%                   16.000000                   8.000000   \n",
              "50%                   28.000000                  16.000000   \n",
              "75%                   38.000000                  23.000000   \n",
              "max                   53.000000                  31.000000   \n",
              "\n",
              "       stays_in_weekend_nights  stays_in_week_nights         adults  \\\n",
              "count            119390.000000         119390.000000  119390.000000   \n",
              "mean                  0.927599              2.500302       1.856403   \n",
              "std                   0.998613              1.908286       0.579261   \n",
              "min                   0.000000              0.000000       0.000000   \n",
              "25%                   0.000000              1.000000       2.000000   \n",
              "50%                   1.000000              2.000000       2.000000   \n",
              "75%                   2.000000              3.000000       2.000000   \n",
              "max                  19.000000             50.000000      55.000000   \n",
              "\n",
              "            children         babies  is_repeated_guest  \\\n",
              "count  119386.000000  119390.000000      119390.000000   \n",
              "mean        0.103890       0.007949           0.031912   \n",
              "std         0.398561       0.097436           0.175767   \n",
              "min         0.000000       0.000000           0.000000   \n",
              "25%         0.000000       0.000000           0.000000   \n",
              "50%         0.000000       0.000000           0.000000   \n",
              "75%         0.000000       0.000000           0.000000   \n",
              "max        10.000000      10.000000           1.000000   \n",
              "\n",
              "       previous_cancellations  previous_bookings_not_canceled  \\\n",
              "count           119390.000000                   119390.000000   \n",
              "mean                 0.087118                        0.137097   \n",
              "std                  0.844336                        1.497437   \n",
              "min                  0.000000                        0.000000   \n",
              "25%                  0.000000                        0.000000   \n",
              "50%                  0.000000                        0.000000   \n",
              "75%                  0.000000                        0.000000   \n",
              "max                 26.000000                       72.000000   \n",
              "\n",
              "       booking_changes          agent      company  days_in_waiting_list  \\\n",
              "count    119390.000000  103050.000000  6797.000000         119390.000000   \n",
              "mean          0.221124      86.693382   189.266735              2.321149   \n",
              "std           0.652306     110.774548   131.655015             17.594721   \n",
              "min           0.000000       1.000000     6.000000              0.000000   \n",
              "25%           0.000000       9.000000    62.000000              0.000000   \n",
              "50%           0.000000      14.000000   179.000000              0.000000   \n",
              "75%           0.000000     229.000000   270.000000              0.000000   \n",
              "max          21.000000     535.000000   543.000000            391.000000   \n",
              "\n",
              "                 adr  required_car_parking_spaces  total_of_special_requests  \n",
              "count  119390.000000                119390.000000              119390.000000  \n",
              "mean      101.831122                     0.062518                   0.571363  \n",
              "std        50.535790                     0.245291                   0.792798  \n",
              "min        -6.380000                     0.000000                   0.000000  \n",
              "25%        69.290000                     0.000000                   0.000000  \n",
              "50%        94.575000                     0.000000                   0.000000  \n",
              "75%       126.000000                     0.000000                   1.000000  \n",
              "max      5400.000000                     8.000000                   5.000000  "
            ],
            "text/html": [
              "\n",
              "  <div id=\"df-7a99eeb7-383b-43a3-97ae-360bd783d12e\">\n",
              "    <div class=\"colab-df-container\">\n",
              "      <div>\n",
              "<style scoped>\n",
              "    .dataframe tbody tr th:only-of-type {\n",
              "        vertical-align: middle;\n",
              "    }\n",
              "\n",
              "    .dataframe tbody tr th {\n",
              "        vertical-align: top;\n",
              "    }\n",
              "\n",
              "    .dataframe thead th {\n",
              "        text-align: right;\n",
              "    }\n",
              "</style>\n",
              "<table border=\"1\" class=\"dataframe\">\n",
              "  <thead>\n",
              "    <tr style=\"text-align: right;\">\n",
              "      <th></th>\n",
              "      <th>is_canceled</th>\n",
              "      <th>lead_time</th>\n",
              "      <th>arrival_date_year</th>\n",
              "      <th>arrival_date_week_number</th>\n",
              "      <th>arrival_date_day_of_month</th>\n",
              "      <th>stays_in_weekend_nights</th>\n",
              "      <th>stays_in_week_nights</th>\n",
              "      <th>adults</th>\n",
              "      <th>children</th>\n",
              "      <th>babies</th>\n",
              "      <th>is_repeated_guest</th>\n",
              "      <th>previous_cancellations</th>\n",
              "      <th>previous_bookings_not_canceled</th>\n",
              "      <th>booking_changes</th>\n",
              "      <th>agent</th>\n",
              "      <th>company</th>\n",
              "      <th>days_in_waiting_list</th>\n",
              "      <th>adr</th>\n",
              "      <th>required_car_parking_spaces</th>\n",
              "      <th>total_of_special_requests</th>\n",
              "    </tr>\n",
              "  </thead>\n",
              "  <tbody>\n",
              "    <tr>\n",
              "      <th>count</th>\n",
              "      <td>119390.000000</td>\n",
              "      <td>119390.000000</td>\n",
              "      <td>119390.000000</td>\n",
              "      <td>119390.000000</td>\n",
              "      <td>119390.000000</td>\n",
              "      <td>119390.000000</td>\n",
              "      <td>119390.000000</td>\n",
              "      <td>119390.000000</td>\n",
              "      <td>119386.000000</td>\n",
              "      <td>119390.000000</td>\n",
              "      <td>119390.000000</td>\n",
              "      <td>119390.000000</td>\n",
              "      <td>119390.000000</td>\n",
              "      <td>119390.000000</td>\n",
              "      <td>103050.000000</td>\n",
              "      <td>6797.000000</td>\n",
              "      <td>119390.000000</td>\n",
              "      <td>119390.000000</td>\n",
              "      <td>119390.000000</td>\n",
              "      <td>119390.000000</td>\n",
              "    </tr>\n",
              "    <tr>\n",
              "      <th>mean</th>\n",
              "      <td>0.370416</td>\n",
              "      <td>104.011416</td>\n",
              "      <td>2016.156554</td>\n",
              "      <td>27.165173</td>\n",
              "      <td>15.798241</td>\n",
              "      <td>0.927599</td>\n",
              "      <td>2.500302</td>\n",
              "      <td>1.856403</td>\n",
              "      <td>0.103890</td>\n",
              "      <td>0.007949</td>\n",
              "      <td>0.031912</td>\n",
              "      <td>0.087118</td>\n",
              "      <td>0.137097</td>\n",
              "      <td>0.221124</td>\n",
              "      <td>86.693382</td>\n",
              "      <td>189.266735</td>\n",
              "      <td>2.321149</td>\n",
              "      <td>101.831122</td>\n",
              "      <td>0.062518</td>\n",
              "      <td>0.571363</td>\n",
              "    </tr>\n",
              "    <tr>\n",
              "      <th>std</th>\n",
              "      <td>0.482918</td>\n",
              "      <td>106.863097</td>\n",
              "      <td>0.707476</td>\n",
              "      <td>13.605138</td>\n",
              "      <td>8.780829</td>\n",
              "      <td>0.998613</td>\n",
              "      <td>1.908286</td>\n",
              "      <td>0.579261</td>\n",
              "      <td>0.398561</td>\n",
              "      <td>0.097436</td>\n",
              "      <td>0.175767</td>\n",
              "      <td>0.844336</td>\n",
              "      <td>1.497437</td>\n",
              "      <td>0.652306</td>\n",
              "      <td>110.774548</td>\n",
              "      <td>131.655015</td>\n",
              "      <td>17.594721</td>\n",
              "      <td>50.535790</td>\n",
              "      <td>0.245291</td>\n",
              "      <td>0.792798</td>\n",
              "    </tr>\n",
              "    <tr>\n",
              "      <th>min</th>\n",
              "      <td>0.000000</td>\n",
              "      <td>0.000000</td>\n",
              "      <td>2015.000000</td>\n",
              "      <td>1.000000</td>\n",
              "      <td>1.000000</td>\n",
              "      <td>0.000000</td>\n",
              "      <td>0.000000</td>\n",
              "      <td>0.000000</td>\n",
              "      <td>0.000000</td>\n",
              "      <td>0.000000</td>\n",
              "      <td>0.000000</td>\n",
              "      <td>0.000000</td>\n",
              "      <td>0.000000</td>\n",
              "      <td>0.000000</td>\n",
              "      <td>1.000000</td>\n",
              "      <td>6.000000</td>\n",
              "      <td>0.000000</td>\n",
              "      <td>-6.380000</td>\n",
              "      <td>0.000000</td>\n",
              "      <td>0.000000</td>\n",
              "    </tr>\n",
              "    <tr>\n",
              "      <th>25%</th>\n",
              "      <td>0.000000</td>\n",
              "      <td>18.000000</td>\n",
              "      <td>2016.000000</td>\n",
              "      <td>16.000000</td>\n",
              "      <td>8.000000</td>\n",
              "      <td>0.000000</td>\n",
              "      <td>1.000000</td>\n",
              "      <td>2.000000</td>\n",
              "      <td>0.000000</td>\n",
              "      <td>0.000000</td>\n",
              "      <td>0.000000</td>\n",
              "      <td>0.000000</td>\n",
              "      <td>0.000000</td>\n",
              "      <td>0.000000</td>\n",
              "      <td>9.000000</td>\n",
              "      <td>62.000000</td>\n",
              "      <td>0.000000</td>\n",
              "      <td>69.290000</td>\n",
              "      <td>0.000000</td>\n",
              "      <td>0.000000</td>\n",
              "    </tr>\n",
              "    <tr>\n",
              "      <th>50%</th>\n",
              "      <td>0.000000</td>\n",
              "      <td>69.000000</td>\n",
              "      <td>2016.000000</td>\n",
              "      <td>28.000000</td>\n",
              "      <td>16.000000</td>\n",
              "      <td>1.000000</td>\n",
              "      <td>2.000000</td>\n",
              "      <td>2.000000</td>\n",
              "      <td>0.000000</td>\n",
              "      <td>0.000000</td>\n",
              "      <td>0.000000</td>\n",
              "      <td>0.000000</td>\n",
              "      <td>0.000000</td>\n",
              "      <td>0.000000</td>\n",
              "      <td>14.000000</td>\n",
              "      <td>179.000000</td>\n",
              "      <td>0.000000</td>\n",
              "      <td>94.575000</td>\n",
              "      <td>0.000000</td>\n",
              "      <td>0.000000</td>\n",
              "    </tr>\n",
              "    <tr>\n",
              "      <th>75%</th>\n",
              "      <td>1.000000</td>\n",
              "      <td>160.000000</td>\n",
              "      <td>2017.000000</td>\n",
              "      <td>38.000000</td>\n",
              "      <td>23.000000</td>\n",
              "      <td>2.000000</td>\n",
              "      <td>3.000000</td>\n",
              "      <td>2.000000</td>\n",
              "      <td>0.000000</td>\n",
              "      <td>0.000000</td>\n",
              "      <td>0.000000</td>\n",
              "      <td>0.000000</td>\n",
              "      <td>0.000000</td>\n",
              "      <td>0.000000</td>\n",
              "      <td>229.000000</td>\n",
              "      <td>270.000000</td>\n",
              "      <td>0.000000</td>\n",
              "      <td>126.000000</td>\n",
              "      <td>0.000000</td>\n",
              "      <td>1.000000</td>\n",
              "    </tr>\n",
              "    <tr>\n",
              "      <th>max</th>\n",
              "      <td>1.000000</td>\n",
              "      <td>737.000000</td>\n",
              "      <td>2017.000000</td>\n",
              "      <td>53.000000</td>\n",
              "      <td>31.000000</td>\n",
              "      <td>19.000000</td>\n",
              "      <td>50.000000</td>\n",
              "      <td>55.000000</td>\n",
              "      <td>10.000000</td>\n",
              "      <td>10.000000</td>\n",
              "      <td>1.000000</td>\n",
              "      <td>26.000000</td>\n",
              "      <td>72.000000</td>\n",
              "      <td>21.000000</td>\n",
              "      <td>535.000000</td>\n",
              "      <td>543.000000</td>\n",
              "      <td>391.000000</td>\n",
              "      <td>5400.000000</td>\n",
              "      <td>8.000000</td>\n",
              "      <td>5.000000</td>\n",
              "    </tr>\n",
              "  </tbody>\n",
              "</table>\n",
              "</div>\n",
              "      <button class=\"colab-df-convert\" onclick=\"convertToInteractive('df-7a99eeb7-383b-43a3-97ae-360bd783d12e')\"\n",
              "              title=\"Convert this dataframe to an interactive table.\"\n",
              "              style=\"display:none;\">\n",
              "        \n",
              "  <svg xmlns=\"http://www.w3.org/2000/svg\" height=\"24px\"viewBox=\"0 0 24 24\"\n",
              "       width=\"24px\">\n",
              "    <path d=\"M0 0h24v24H0V0z\" fill=\"none\"/>\n",
              "    <path d=\"M18.56 5.44l.94 2.06.94-2.06 2.06-.94-2.06-.94-.94-2.06-.94 2.06-2.06.94zm-11 1L8.5 8.5l.94-2.06 2.06-.94-2.06-.94L8.5 2.5l-.94 2.06-2.06.94zm10 10l.94 2.06.94-2.06 2.06-.94-2.06-.94-.94-2.06-.94 2.06-2.06.94z\"/><path d=\"M17.41 7.96l-1.37-1.37c-.4-.4-.92-.59-1.43-.59-.52 0-1.04.2-1.43.59L10.3 9.45l-7.72 7.72c-.78.78-.78 2.05 0 2.83L4 21.41c.39.39.9.59 1.41.59.51 0 1.02-.2 1.41-.59l7.78-7.78 2.81-2.81c.8-.78.8-2.07 0-2.86zM5.41 20L4 18.59l7.72-7.72 1.47 1.35L5.41 20z\"/>\n",
              "  </svg>\n",
              "      </button>\n",
              "      \n",
              "  <style>\n",
              "    .colab-df-container {\n",
              "      display:flex;\n",
              "      flex-wrap:wrap;\n",
              "      gap: 12px;\n",
              "    }\n",
              "\n",
              "    .colab-df-convert {\n",
              "      background-color: #E8F0FE;\n",
              "      border: none;\n",
              "      border-radius: 50%;\n",
              "      cursor: pointer;\n",
              "      display: none;\n",
              "      fill: #1967D2;\n",
              "      height: 32px;\n",
              "      padding: 0 0 0 0;\n",
              "      width: 32px;\n",
              "    }\n",
              "\n",
              "    .colab-df-convert:hover {\n",
              "      background-color: #E2EBFA;\n",
              "      box-shadow: 0px 1px 2px rgba(60, 64, 67, 0.3), 0px 1px 3px 1px rgba(60, 64, 67, 0.15);\n",
              "      fill: #174EA6;\n",
              "    }\n",
              "\n",
              "    [theme=dark] .colab-df-convert {\n",
              "      background-color: #3B4455;\n",
              "      fill: #D2E3FC;\n",
              "    }\n",
              "\n",
              "    [theme=dark] .colab-df-convert:hover {\n",
              "      background-color: #434B5C;\n",
              "      box-shadow: 0px 1px 3px 1px rgba(0, 0, 0, 0.15);\n",
              "      filter: drop-shadow(0px 1px 2px rgba(0, 0, 0, 0.3));\n",
              "      fill: #FFFFFF;\n",
              "    }\n",
              "  </style>\n",
              "\n",
              "      <script>\n",
              "        const buttonEl =\n",
              "          document.querySelector('#df-7a99eeb7-383b-43a3-97ae-360bd783d12e button.colab-df-convert');\n",
              "        buttonEl.style.display =\n",
              "          google.colab.kernel.accessAllowed ? 'block' : 'none';\n",
              "\n",
              "        async function convertToInteractive(key) {\n",
              "          const element = document.querySelector('#df-7a99eeb7-383b-43a3-97ae-360bd783d12e');\n",
              "          const dataTable =\n",
              "            await google.colab.kernel.invokeFunction('convertToInteractive',\n",
              "                                                     [key], {});\n",
              "          if (!dataTable) return;\n",
              "\n",
              "          const docLinkHtml = 'Like what you see? Visit the ' +\n",
              "            '<a target=\"_blank\" href=https://colab.research.google.com/notebooks/data_table.ipynb>data table notebook</a>'\n",
              "            + ' to learn more about interactive tables.';\n",
              "          element.innerHTML = '';\n",
              "          dataTable['output_type'] = 'display_data';\n",
              "          await google.colab.output.renderOutput(dataTable, element);\n",
              "          const docLink = document.createElement('div');\n",
              "          docLink.innerHTML = docLinkHtml;\n",
              "          element.appendChild(docLink);\n",
              "        }\n",
              "      </script>\n",
              "    </div>\n",
              "  </div>\n",
              "  "
            ]
          },
          "metadata": {},
          "execution_count": 8
        }
      ]
    },
    {
      "cell_type": "markdown",
      "source": [
        "## First of all, let's explore the different columns of the given data frame."
      ],
      "metadata": {
        "id": "gsmZ-B3lAaoW"
      }
    },
    {
      "cell_type": "code",
      "source": [
        "df.columns"
      ],
      "metadata": {
        "colab": {
          "base_uri": "https://localhost:8080/"
        },
        "id": "VP2hcya0Gvk9",
        "outputId": "1271d6c1-fa7d-4fc3-a5d2-f12f742215a9"
      },
      "execution_count": null,
      "outputs": [
        {
          "output_type": "execute_result",
          "data": {
            "text/plain": [
              "Index(['hotel', 'is_canceled', 'lead_time', 'arrival_date_year',\n",
              "       'arrival_date_month', 'arrival_date_week_number',\n",
              "       'arrival_date_day_of_month', 'stays_in_weekend_nights',\n",
              "       'stays_in_week_nights', 'adults', 'children', 'babies', 'meal',\n",
              "       'country', 'market_segment', 'distribution_channel',\n",
              "       'is_repeated_guest', 'previous_cancellations',\n",
              "       'previous_bookings_not_canceled', 'reserved_room_type',\n",
              "       'assigned_room_type', 'booking_changes', 'deposit_type', 'agent',\n",
              "       'company', 'days_in_waiting_list', 'customer_type', 'adr',\n",
              "       'required_car_parking_spaces', 'total_of_special_requests',\n",
              "       'reservation_status', 'reservation_status_date'],\n",
              "      dtype='object')"
            ]
          },
          "metadata": {},
          "execution_count": 9
        }
      ]
    },
    {
      "cell_type": "code",
      "source": [
        "#let's see the unique values attained by some of the columns.\n",
        "df['hotel'].unique()"
      ],
      "metadata": {
        "colab": {
          "base_uri": "https://localhost:8080/"
        },
        "id": "_78wZLGr-giJ",
        "outputId": "2a8e1ccd-8e96-4def-f81e-abc66abded60"
      },
      "execution_count": null,
      "outputs": [
        {
          "output_type": "execute_result",
          "data": {
            "text/plain": [
              "array(['Resort Hotel', 'City Hotel'], dtype=object)"
            ]
          },
          "metadata": {},
          "execution_count": 10
        }
      ]
    },
    {
      "cell_type": "markdown",
      "source": [
        "There are two types of hotel: 'Resort Hotel', 'City Hotel'."
      ],
      "metadata": {
        "id": "GIc7hxSmA_w-"
      }
    },
    {
      "cell_type": "code",
      "source": [
        "df['is_canceled'].unique(\t)"
      ],
      "metadata": {
        "colab": {
          "base_uri": "https://localhost:8080/"
        },
        "id": "A_2XN-G7-gVQ",
        "outputId": "639a6857-89f6-4ba1-b56e-5b9469d6365a"
      },
      "execution_count": null,
      "outputs": [
        {
          "output_type": "execute_result",
          "data": {
            "text/plain": [
              "array([0, 1])"
            ]
          },
          "metadata": {},
          "execution_count": 11
        }
      ]
    },
    {
      "cell_type": "code",
      "source": [
        "df['arrival_date_year'].unique(\t)"
      ],
      "metadata": {
        "colab": {
          "base_uri": "https://localhost:8080/"
        },
        "id": "Z_0IFRhh-gG3",
        "outputId": "73acfda7-0674-4c1c-f887-2a77c27c06bb"
      },
      "execution_count": null,
      "outputs": [
        {
          "output_type": "execute_result",
          "data": {
            "text/plain": [
              "array([2015, 2016, 2017])"
            ]
          },
          "metadata": {},
          "execution_count": 12
        }
      ]
    },
    {
      "cell_type": "code",
      "source": [
        "df['meal'].unique(\t)"
      ],
      "metadata": {
        "colab": {
          "base_uri": "https://localhost:8080/"
        },
        "id": "NtYjS_PF-f2f",
        "outputId": "cbd0492f-1a76-4cdc-9840-33a8b6034c36"
      },
      "execution_count": null,
      "outputs": [
        {
          "output_type": "execute_result",
          "data": {
            "text/plain": [
              "array(['BB', 'FB', 'HB', 'SC', 'Undefined'], dtype=object)"
            ]
          },
          "metadata": {},
          "execution_count": 13
        }
      ]
    },
    {
      "cell_type": "code",
      "source": [
        "df['country'].unique(\t)"
      ],
      "metadata": {
        "colab": {
          "base_uri": "https://localhost:8080/"
        },
        "id": "sgoXIapL-fgB",
        "outputId": "ad5f0175-95e0-41bd-c9d1-57ffb689378a"
      },
      "execution_count": null,
      "outputs": [
        {
          "output_type": "execute_result",
          "data": {
            "text/plain": [
              "array(['PRT', 'GBR', 'USA', 'ESP', 'IRL', 'FRA', nan, 'ROU', 'NOR', 'OMN',\n",
              "       'ARG', 'POL', 'DEU', 'BEL', 'CHE', 'CN', 'GRC', 'ITA', 'NLD',\n",
              "       'DNK', 'RUS', 'SWE', 'AUS', 'EST', 'CZE', 'BRA', 'FIN', 'MOZ',\n",
              "       'BWA', 'LUX', 'SVN', 'ALB', 'IND', 'CHN', 'MEX', 'MAR', 'UKR',\n",
              "       'SMR', 'LVA', 'PRI', 'SRB', 'CHL', 'AUT', 'BLR', 'LTU', 'TUR',\n",
              "       'ZAF', 'AGO', 'ISR', 'CYM', 'ZMB', 'CPV', 'ZWE', 'DZA', 'KOR',\n",
              "       'CRI', 'HUN', 'ARE', 'TUN', 'JAM', 'HRV', 'HKG', 'IRN', 'GEO',\n",
              "       'AND', 'GIB', 'URY', 'JEY', 'CAF', 'CYP', 'COL', 'GGY', 'KWT',\n",
              "       'NGA', 'MDV', 'VEN', 'SVK', 'FJI', 'KAZ', 'PAK', 'IDN', 'LBN',\n",
              "       'PHL', 'SEN', 'SYC', 'AZE', 'BHR', 'NZL', 'THA', 'DOM', 'MKD',\n",
              "       'MYS', 'ARM', 'JPN', 'LKA', 'CUB', 'CMR', 'BIH', 'MUS', 'COM',\n",
              "       'SUR', 'UGA', 'BGR', 'CIV', 'JOR', 'SYR', 'SGP', 'BDI', 'SAU',\n",
              "       'VNM', 'PLW', 'QAT', 'EGY', 'PER', 'MLT', 'MWI', 'ECU', 'MDG',\n",
              "       'ISL', 'UZB', 'NPL', 'BHS', 'MAC', 'TGO', 'TWN', 'DJI', 'STP',\n",
              "       'KNA', 'ETH', 'IRQ', 'HND', 'RWA', 'KHM', 'MCO', 'BGD', 'IMN',\n",
              "       'TJK', 'NIC', 'BEN', 'VGB', 'TZA', 'GAB', 'GHA', 'TMP', 'GLP',\n",
              "       'KEN', 'LIE', 'GNB', 'MNE', 'UMI', 'MYT', 'FRO', 'MMR', 'PAN',\n",
              "       'BFA', 'LBY', 'MLI', 'NAM', 'BOL', 'PRY', 'BRB', 'ABW', 'AIA',\n",
              "       'SLV', 'DMA', 'PYF', 'GUY', 'LCA', 'ATA', 'GTM', 'ASM', 'MRT',\n",
              "       'NCL', 'KIR', 'SDN', 'ATF', 'SLE', 'LAO'], dtype=object)"
            ]
          },
          "metadata": {},
          "execution_count": 14
        }
      ]
    },
    {
      "cell_type": "code",
      "source": [
        "df['market_segment'].unique()"
      ],
      "metadata": {
        "colab": {
          "base_uri": "https://localhost:8080/"
        },
        "id": "-sNI3eTGDis0",
        "outputId": "b24ea291-f3ff-4558-fcbf-c4ad009a478a"
      },
      "execution_count": null,
      "outputs": [
        {
          "output_type": "execute_result",
          "data": {
            "text/plain": [
              "array(['Direct', 'Corporate', 'Online TA', 'Offline TA/TO',\n",
              "       'Complementary', 'Groups', 'Undefined', 'Aviation'], dtype=object)"
            ]
          },
          "metadata": {},
          "execution_count": 15
        }
      ]
    },
    {
      "cell_type": "code",
      "source": [
        "df['distribution_channel'].unique()"
      ],
      "metadata": {
        "colab": {
          "base_uri": "https://localhost:8080/"
        },
        "id": "GK77Cs0vDinQ",
        "outputId": "40093cee-4a5c-453f-8794-40e56fbc965a"
      },
      "execution_count": null,
      "outputs": [
        {
          "output_type": "execute_result",
          "data": {
            "text/plain": [
              "array(['Direct', 'Corporate', 'TA/TO', 'Undefined', 'GDS'], dtype=object)"
            ]
          },
          "metadata": {},
          "execution_count": 16
        }
      ]
    },
    {
      "cell_type": "code",
      "source": [
        "df['customer_type'].unique()"
      ],
      "metadata": {
        "colab": {
          "base_uri": "https://localhost:8080/"
        },
        "id": "bT7yhPWpDihf",
        "outputId": "07982e75-0ceb-4d08-a2ee-7800f006bf92"
      },
      "execution_count": null,
      "outputs": [
        {
          "output_type": "execute_result",
          "data": {
            "text/plain": [
              "array(['Transient', 'Contract', 'Transient-Party', 'Group'], dtype=object)"
            ]
          },
          "metadata": {},
          "execution_count": 17
        }
      ]
    },
    {
      "cell_type": "code",
      "source": [],
      "metadata": {
        "id": "7zrqXuE-Dibr"
      },
      "execution_count": null,
      "outputs": []
    },
    {
      "cell_type": "markdown",
      "source": [
        "#  Data Cleaning\n",
        "Cleaning data is the very important step before EDA as it will remove the ambigous data that can affect the outcome of EDA.\n",
        "\n",
        "While cleaning data we will perform following steps: \n",
        "1. Remove duplicate rows   \n",
        "2. Handling missing values.\n",
        "3. Convert columns to appropriate datatypes. \n",
        "4.Adding important columns\n",
        "\n",
        "\n",
        "\n"
      ],
      "metadata": {
        "id": "RHY7122nNoHz"
      }
    },
    {
      "cell_type": "code",
      "source": [
        "df.isna().any()"
      ],
      "metadata": {
        "colab": {
          "base_uri": "https://localhost:8080/"
        },
        "id": "5iv3ievdDiOO",
        "outputId": "cb049287-2825-4e9f-f6fb-8ff81283c766"
      },
      "execution_count": null,
      "outputs": [
        {
          "output_type": "execute_result",
          "data": {
            "text/plain": [
              "hotel                             False\n",
              "is_canceled                       False\n",
              "lead_time                         False\n",
              "arrival_date_year                 False\n",
              "arrival_date_month                False\n",
              "arrival_date_week_number          False\n",
              "arrival_date_day_of_month         False\n",
              "stays_in_weekend_nights           False\n",
              "stays_in_week_nights              False\n",
              "adults                            False\n",
              "children                           True\n",
              "babies                            False\n",
              "meal                              False\n",
              "country                            True\n",
              "market_segment                    False\n",
              "distribution_channel              False\n",
              "is_repeated_guest                 False\n",
              "previous_cancellations            False\n",
              "previous_bookings_not_canceled    False\n",
              "reserved_room_type                False\n",
              "assigned_room_type                False\n",
              "booking_changes                   False\n",
              "deposit_type                      False\n",
              "agent                              True\n",
              "company                            True\n",
              "days_in_waiting_list              False\n",
              "customer_type                     False\n",
              "adr                               False\n",
              "required_car_parking_spaces       False\n",
              "total_of_special_requests         False\n",
              "reservation_status                False\n",
              "reservation_status_date           False\n",
              "dtype: bool"
            ]
          },
          "metadata": {},
          "execution_count": 18
        }
      ]
    },
    {
      "cell_type": "markdown",
      "source": [
        "We can see there are four columns where the null values are present."
      ],
      "metadata": {
        "id": "5ccEV7dErp2L"
      }
    },
    {
      "cell_type": "code",
      "source": [
        "# No of null values present in the respective four columns.\n",
        "print(df.isnull().sum().sort_values(ascending=False))"
      ],
      "metadata": {
        "colab": {
          "base_uri": "https://localhost:8080/"
        },
        "id": "JdezJhQ6DiGV",
        "outputId": "e45a9f77-74f9-44fe-86de-2a51189aa3e0"
      },
      "execution_count": null,
      "outputs": [
        {
          "output_type": "stream",
          "name": "stdout",
          "text": [
            "company                           112593\n",
            "agent                              16340\n",
            "country                              488\n",
            "children                               4\n",
            "reserved_room_type                     0\n",
            "assigned_room_type                     0\n",
            "booking_changes                        0\n",
            "deposit_type                           0\n",
            "hotel                                  0\n",
            "previous_cancellations                 0\n",
            "days_in_waiting_list                   0\n",
            "customer_type                          0\n",
            "adr                                    0\n",
            "required_car_parking_spaces            0\n",
            "total_of_special_requests              0\n",
            "reservation_status                     0\n",
            "previous_bookings_not_canceled         0\n",
            "is_repeated_guest                      0\n",
            "is_canceled                            0\n",
            "distribution_channel                   0\n",
            "market_segment                         0\n",
            "meal                                   0\n",
            "babies                                 0\n",
            "adults                                 0\n",
            "stays_in_week_nights                   0\n",
            "stays_in_weekend_nights                0\n",
            "arrival_date_day_of_month              0\n",
            "arrival_date_week_number               0\n",
            "arrival_date_month                     0\n",
            "arrival_date_year                      0\n",
            "lead_time                              0\n",
            "reservation_status_date                0\n",
            "dtype: int64\n"
          ]
        }
      ]
    },
    {
      "cell_type": "markdown",
      "source": [
        "We can see company and agent columns have company numbers and agent numbers as data. These columns contains some null values.\n",
        "\n",
        "This is possible when the customer didn't book the hotel via any agent or company. So in that case values can be null under these columns. In that case, we will replace null values with 0 in these columns.\n",
        "\n"
      ],
      "metadata": {
        "id": "jOuHOZeCXuMr"
      }
    },
    {
      "cell_type": "markdown",
      "source": [
        "# Replacing Missing Values."
      ],
      "metadata": {
        "id": "pfPb9UwBmuuf"
      }
    },
    {
      "cell_type": "code",
      "source": [
        "#Replacing null values by 0.\n",
        "df[['company','agent']] = df[['company','agent']].fillna(0)"
      ],
      "metadata": {
        "id": "svCYOixnDh0C"
      },
      "execution_count": null,
      "outputs": []
    },
    {
      "cell_type": "code",
      "source": [
        "df['children'].unique()"
      ],
      "metadata": {
        "colab": {
          "base_uri": "https://localhost:8080/"
        },
        "id": "NDKQ2jlbDhmZ",
        "outputId": "d4894c94-2916-4067-d686-3e6d49cfa55e"
      },
      "execution_count": null,
      "outputs": [
        {
          "output_type": "execute_result",
          "data": {
            "text/plain": [
              "array([ 0.,  1.,  2., 10.,  3., nan])"
            ]
          },
          "metadata": {},
          "execution_count": 21
        }
      ]
    },
    {
      "cell_type": "markdown",
      "source": [
        "We see that 'nan' values are the missing values which are present in the children column. We will replace the null values under this column with mean value of childrens."
      ],
      "metadata": {
        "id": "ZG7haovGafk3"
      }
    },
    {
      "cell_type": "code",
      "source": [
        "#Replacing 'nan' values by mean value.\n",
        "df['children'].fillna(df['children'].mean(), inplace = True)"
      ],
      "metadata": {
        "id": "2izBCqovDhVN"
      },
      "execution_count": null,
      "outputs": []
    },
    {
      "cell_type": "markdown",
      "source": [
        " We see that country column also contains some missing values. We will replace the missing value with 'others' country."
      ],
      "metadata": {
        "id": "uSa5ZBgWcX-_"
      }
    },
    {
      "cell_type": "code",
      "source": [
        "df['country'].fillna('others', inplace = True)\n"
      ],
      "metadata": {
        "id": "3g43kPuTb7VD"
      },
      "execution_count": null,
      "outputs": []
    },
    {
      "cell_type": "code",
      "source": [
        "print(df.isnull().sum().sort_values(ascending=False))"
      ],
      "metadata": {
        "id": "z1nQHWwfb7nR",
        "colab": {
          "base_uri": "https://localhost:8080/"
        },
        "outputId": "21c8061c-6e12-4f93-da52-975ceeb0e2bd"
      },
      "execution_count": null,
      "outputs": [
        {
          "output_type": "stream",
          "name": "stdout",
          "text": [
            "hotel                             0\n",
            "is_canceled                       0\n",
            "reservation_status                0\n",
            "total_of_special_requests         0\n",
            "required_car_parking_spaces       0\n",
            "adr                               0\n",
            "customer_type                     0\n",
            "days_in_waiting_list              0\n",
            "company                           0\n",
            "agent                             0\n",
            "deposit_type                      0\n",
            "booking_changes                   0\n",
            "assigned_room_type                0\n",
            "reserved_room_type                0\n",
            "previous_bookings_not_canceled    0\n",
            "previous_cancellations            0\n",
            "is_repeated_guest                 0\n",
            "distribution_channel              0\n",
            "market_segment                    0\n",
            "country                           0\n",
            "meal                              0\n",
            "babies                            0\n",
            "children                          0\n",
            "adults                            0\n",
            "stays_in_week_nights              0\n",
            "stays_in_weekend_nights           0\n",
            "arrival_date_day_of_month         0\n",
            "arrival_date_week_number          0\n",
            "arrival_date_month                0\n",
            "arrival_date_year                 0\n",
            "lead_time                         0\n",
            "reservation_status_date           0\n",
            "dtype: int64\n"
          ]
        }
      ]
    },
    {
      "cell_type": "markdown",
      "source": [
        "Now we can see all the missing values are replaced."
      ],
      "metadata": {
        "id": "8eUvIXcWo6-L"
      }
    },
    {
      "cell_type": "markdown",
      "source": [
        "# Removing Duplicate Rows"
      ],
      "metadata": {
        "id": "f7ivfiwvpKfB"
      }
    },
    {
      "cell_type": "code",
      "source": [
        "df.duplicated().value_counts()"
      ],
      "metadata": {
        "id": "C8XNC1Z5UjwC",
        "colab": {
          "base_uri": "https://localhost:8080/"
        },
        "outputId": "1e06356f-6649-4d51-b785-7fba76a5017c"
      },
      "execution_count": null,
      "outputs": [
        {
          "output_type": "execute_result",
          "data": {
            "text/plain": [
              "False    87396\n",
              "True     31994\n",
              "dtype: int64"
            ]
          },
          "metadata": {},
          "execution_count": 25
        }
      ]
    },
    {
      "cell_type": "markdown",
      "source": [
        "We can see there are 31994 duplicate rows in the dataset."
      ],
      "metadata": {
        "id": "hEJhSPGxp1vR"
      }
    },
    {
      "cell_type": "code",
      "source": [
        "# removing duplicate rows\n",
        "df.drop_duplicates(inplace = True)"
      ],
      "metadata": {
        "id": "fSnZEvZRb71k"
      },
      "execution_count": null,
      "outputs": []
    },
    {
      "cell_type": "code",
      "source": [
        "df.shape"
      ],
      "metadata": {
        "id": "ynKTYVKIb8Em",
        "colab": {
          "base_uri": "https://localhost:8080/"
        },
        "outputId": "c835bd74-c5e6-4962-9059-a7716ad4c88b"
      },
      "execution_count": null,
      "outputs": [
        {
          "output_type": "execute_result",
          "data": {
            "text/plain": [
              "(87396, 32)"
            ]
          },
          "metadata": {},
          "execution_count": 27
        }
      ]
    },
    {
      "cell_type": "markdown",
      "source": [
        "We can see all the duplicate rows are removed."
      ],
      "metadata": {
        "id": "c86hLihwrBsQ"
      }
    },
    {
      "cell_type": "code",
      "source": [
        "df[df['adults']+df['babies']+df['children'] == 0].shape"
      ],
      "metadata": {
        "id": "_i97N8pPTGzQ",
        "colab": {
          "base_uri": "https://localhost:8080/"
        },
        "outputId": "781b9ee2-8086-49de-f315-ba83149ae9f2"
      },
      "execution_count": null,
      "outputs": [
        {
          "output_type": "execute_result",
          "data": {
            "text/plain": [
              "(166, 32)"
            ]
          },
          "metadata": {},
          "execution_count": 28
        }
      ]
    },
    {
      "cell_type": "markdown",
      "source": [
        "We observe that there are 166 rows where the sum of no of children, no of adults, and no of babies are 0. This does not make any sense.\n"
      ],
      "metadata": {
        "id": "KrSSsDoGtnyW"
      }
    },
    {
      "cell_type": "code",
      "source": [
        "#Removing ambigous rows.\n",
        "df.drop(df[df['adults']+df['babies']+df['children'] == 0].index,inplace=True)\n"
      ],
      "metadata": {
        "id": "zoNeP2ymoC0-"
      },
      "execution_count": null,
      "outputs": []
    },
    {
      "cell_type": "markdown",
      "source": [
        "# Converting to appropriate datatypes."
      ],
      "metadata": {
        "id": "DkDn0y8Xw3C7"
      }
    },
    {
      "cell_type": "code",
      "source": [
        "df.dtypes"
      ],
      "metadata": {
        "colab": {
          "base_uri": "https://localhost:8080/"
        },
        "id": "nFb0vrbzoC8d",
        "outputId": "1f39041a-5aec-4650-f976-6a6589bb187a"
      },
      "execution_count": null,
      "outputs": [
        {
          "output_type": "execute_result",
          "data": {
            "text/plain": [
              "hotel                              object\n",
              "is_canceled                         int64\n",
              "lead_time                           int64\n",
              "arrival_date_year                   int64\n",
              "arrival_date_month                 object\n",
              "arrival_date_week_number            int64\n",
              "arrival_date_day_of_month           int64\n",
              "stays_in_weekend_nights             int64\n",
              "stays_in_week_nights                int64\n",
              "adults                              int64\n",
              "children                          float64\n",
              "babies                              int64\n",
              "meal                               object\n",
              "country                            object\n",
              "market_segment                     object\n",
              "distribution_channel               object\n",
              "is_repeated_guest                   int64\n",
              "previous_cancellations              int64\n",
              "previous_bookings_not_canceled      int64\n",
              "reserved_room_type                 object\n",
              "assigned_room_type                 object\n",
              "booking_changes                     int64\n",
              "deposit_type                       object\n",
              "agent                             float64\n",
              "company                           float64\n",
              "days_in_waiting_list                int64\n",
              "customer_type                      object\n",
              "adr                               float64\n",
              "required_car_parking_spaces         int64\n",
              "total_of_special_requests           int64\n",
              "reservation_status                 object\n",
              "reservation_status_date            object\n",
              "dtype: object"
            ]
          },
          "metadata": {},
          "execution_count": 30
        }
      ]
    },
    {
      "cell_type": "code",
      "source": [
        "# Conversion of datatypes  from float to int.\n",
        "df[['children', 'company', 'agent']] = df[['children', 'company', 'agent']].astype('int64')"
      ],
      "metadata": {
        "id": "6AsXSbfwoDEM"
      },
      "execution_count": null,
      "outputs": []
    },
    {
      "cell_type": "code",
      "source": [
        "df[['children', 'company', 'agent']].dtypes"
      ],
      "metadata": {
        "colab": {
          "base_uri": "https://localhost:8080/"
        },
        "id": "aFCnkPbaoDJk",
        "outputId": "7a91e794-194d-448c-cc32-508b79a6d5b2"
      },
      "execution_count": null,
      "outputs": [
        {
          "output_type": "execute_result",
          "data": {
            "text/plain": [
              "children    int64\n",
              "company     int64\n",
              "agent       int64\n",
              "dtype: object"
            ]
          },
          "metadata": {},
          "execution_count": 32
        }
      ]
    },
    {
      "cell_type": "code",
      "source": [
        "# Conversion of datatypes  from 'object' to 'datetime'\n",
        "df['reservation_status_date'] = pd.to_datetime(df['reservation_status_date'], format = '%Y-%m-%d')\n",
        "df['reservation_status_date']"
      ],
      "metadata": {
        "colab": {
          "base_uri": "https://localhost:8080/"
        },
        "id": "wGB42sOYoDOx",
        "outputId": "258f32d5-f5b8-4cbc-eac1-b94aee96c6dc"
      },
      "execution_count": null,
      "outputs": [
        {
          "output_type": "execute_result",
          "data": {
            "text/plain": [
              "0        2015-07-01\n",
              "1        2015-07-01\n",
              "2        2015-07-02\n",
              "3        2015-07-02\n",
              "4        2015-07-03\n",
              "            ...    \n",
              "119385   2017-09-06\n",
              "119386   2017-09-07\n",
              "119387   2017-09-07\n",
              "119388   2017-09-07\n",
              "119389   2017-09-07\n",
              "Name: reservation_status_date, Length: 87230, dtype: datetime64[ns]"
            ]
          },
          "metadata": {},
          "execution_count": 33
        }
      ]
    },
    {
      "cell_type": "markdown",
      "source": [
        "## Adding some important columns."
      ],
      "metadata": {
        "id": "ZsuLdvVYhg66"
      }
    },
    {
      "cell_type": "code",
      "source": [
        "df['total_nights_stay'] = df['stays_in_weekend_nights']+df['stays_in_week_nights']"
      ],
      "metadata": {
        "id": "sgE0eEbf4IKu"
      },
      "execution_count": null,
      "outputs": []
    },
    {
      "cell_type": "code",
      "source": [
        "df.shape"
      ],
      "metadata": {
        "colab": {
          "base_uri": "https://localhost:8080/"
        },
        "id": "ZEauQJlEkpv_",
        "outputId": "0852d399-f572-4b55-f1f0-12529dd00c37"
      },
      "execution_count": null,
      "outputs": [
        {
          "output_type": "execute_result",
          "data": {
            "text/plain": [
              "(87230, 33)"
            ]
          },
          "metadata": {},
          "execution_count": 35
        }
      ]
    },
    {
      "cell_type": "code",
      "source": [
        "#Total no of peoples = adults+children+babies.\n",
        "df['total_people_stay'] = df['adults']+df['children']+df['babies']"
      ],
      "metadata": {
        "id": "CAGHKWCikp1d"
      },
      "execution_count": null,
      "outputs": []
    },
    {
      "cell_type": "code",
      "source": [
        "df.shape"
      ],
      "metadata": {
        "colab": {
          "base_uri": "https://localhost:8080/"
        },
        "id": "TpyL2e6xPbRU",
        "outputId": "b108a198-7e00-44be-ee97-30b05eeff08c"
      },
      "execution_count": null,
      "outputs": [
        {
          "output_type": "execute_result",
          "data": {
            "text/plain": [
              "(87230, 34)"
            ]
          },
          "metadata": {},
          "execution_count": 37
        }
      ]
    },
    {
      "cell_type": "markdown",
      "source": [
        "# **EDA**\n",
        "\n",
        "Exploratory data analysis is used by data scientists to analyze and investigate data sets and summarize their main characteristics, often employing data visualization methods.  \n",
        "\n",
        "EDA is primarily used to see what data can reveal beyond the formal modeling or hypothesis testing task and provides a better understanding of data set variables and the relationships between them.  "
      ],
      "metadata": {
        "id": "jAzn1qu6_CX8"
      }
    },
    {
      "cell_type": "markdown",
      "source": [
        "# Univariate Analysis"
      ],
      "metadata": {
        "id": "y5affwPvPzL5"
      }
    },
    {
      "cell_type": "markdown",
      "source": [
        "# Which type of hotel is mostly preferred? "
      ],
      "metadata": {
        "id": "f6faHvLOP9J4"
      }
    },
    {
      "cell_type": "code",
      "source": [
        "df['hotel'].value_counts().plot.pie(explode=[0.05, 0.05], autopct='%1.1f%%', shadow=True, figsize=(10,8),fontsize=20)   \n",
        "plt.title('Pie Chart for Most Preferred  Hotel')"
      ],
      "metadata": {
        "colab": {
          "base_uri": "https://localhost:8080/",
          "height": 499
        },
        "id": "vNmP1-CdkqVU",
        "outputId": "204a45cf-3994-4c71-8c32-032f8c124a7d"
      },
      "execution_count": null,
      "outputs": [
        {
          "output_type": "execute_result",
          "data": {
            "text/plain": [
              "Text(0.5, 1.0, 'Pie Chart for Most Preferred  Hotel')"
            ]
          },
          "metadata": {},
          "execution_count": 38
        },
        {
          "output_type": "display_data",
          "data": {
            "text/plain": [
              "<Figure size 720x576 with 1 Axes>"
            ],
            "image/png": "[encoded data removed]"
          },
          "metadata": {}
        }
      ]
    },
    {
      "cell_type": "markdown",
      "source": [
        "We can see that City Hotels are more preferred."
      ],
      "metadata": {
        "id": "Ppyw5HHj0xEF"
      }
    },
    {
      "cell_type": "markdown",
      "source": [
        "## Which type of meal is mostly preferred?"
      ],
      "metadata": {
        "id": "hqdn2WIkWWQn"
      }
    },
    {
      "cell_type": "code",
      "source": [
        "df['meal'].value_counts()"
      ],
      "metadata": {
        "colab": {
          "base_uri": "https://localhost:8080/"
        },
        "id": "Myoty48tecFr",
        "outputId": "4c1e90b8-fdf2-4d0a-dac4-feced2ccae5e"
      },
      "execution_count": null,
      "outputs": [
        {
          "output_type": "execute_result",
          "data": {
            "text/plain": [
              "BB           67907\n",
              "SC            9391\n",
              "HB            9080\n",
              "Undefined      492\n",
              "FB             360\n",
              "Name: meal, dtype: int64"
            ]
          },
          "metadata": {},
          "execution_count": 39
        }
      ]
    },
    {
      "cell_type": "code",
      "source": [
        "most_visited_people=df['meal'].value_counts()\n",
        "plt.figure(figsize=(10,5))\n",
        "most_visited_people.plot.bar()"
      ],
      "metadata": {
        "colab": {
          "base_uri": "https://localhost:8080/",
          "height": 378
        },
        "id": "dhOASl1Gf2By",
        "outputId": "3025baa9-9351-4265-b17f-c755a2d1c69d"
      },
      "execution_count": null,
      "outputs": [
        {
          "output_type": "execute_result",
          "data": {
            "text/plain": [
              "<matplotlib.axes._subplots.AxesSubplot at 0x7fed14586350>"
            ]
          },
          "metadata": {},
          "execution_count": 40
        },
        {
          "output_type": "display_data",
          "data": {
            "text/plain": [
              "<Figure size 720x360 with 1 Axes>"
            ],
            "image/png": "[encoded data removed]"
          },
          "metadata": {
            "needs_background": "light"
          }
        }
      ]
    },
    {
      "cell_type": "markdown",
      "source": [
        "So  we can see the most preferred meal type by the guests is BB( Bed and Breakfast)."
      ],
      "metadata": {
        "id": "2nrefQpt5nco"
      }
    },
    {
      "cell_type": "markdown",
      "source": [
        "# Which types of hotel makes more revenue?"
      ],
      "metadata": {
        "id": "ClBGT9LC0SqE"
      }
    },
    {
      "cell_type": "code",
      "source": [
        "df.groupby(['hotel'])['adr'].value_counts()"
      ],
      "metadata": {
        "colab": {
          "base_uri": "https://localhost:8080/"
        },
        "id": "TkhHLhTXb289",
        "outputId": "5fdee006-a88a-48ff-84dc-17ccc540b12b"
      },
      "execution_count": null,
      "outputs": [
        {
          "output_type": "execute_result",
          "data": {
            "text/plain": [
              "hotel         adr   \n",
              "City Hotel    75.00     1001\n",
              "              65.00      968\n",
              "              0.00       953\n",
              "              95.00      705\n",
              "              90.00      624\n",
              "                        ... \n",
              "Resort Hotel  402.00       1\n",
              "              426.25       1\n",
              "              437.00       1\n",
              "              450.00       1\n",
              "              508.00       1\n",
              "Name: adr, Length: 11271, dtype: int64"
            ]
          },
          "metadata": {},
          "execution_count": 41
        }
      ]
    },
    {
      "cell_type": "code",
      "source": [
        "sns.barplot( y='adr',  x='hotel', data = df)\n",
        "plt.title('Most revenue making hotel')\n"
      ],
      "metadata": {
        "colab": {
          "base_uri": "https://localhost:8080/",
          "height": 312
        },
        "id": "s04YybNt22sx",
        "outputId": "04926a8f-d38b-486e-ced8-1d61aeaa7277"
      },
      "execution_count": null,
      "outputs": [
        {
          "output_type": "execute_result",
          "data": {
            "text/plain": [
              "Text(0.5, 1.0, 'Most revenue making hotel')"
            ]
          },
          "metadata": {},
          "execution_count": 42
        },
        {
          "output_type": "display_data",
          "data": {
            "text/plain": [
              "<Figure size 432x288 with 1 Axes>"
            ],
            "image/png": "[encoded data removed]"
          },
          "metadata": {
            "needs_background": "light"
          }
        }
      ]
    },
    {
      "cell_type": "markdown",
      "source": [
        "We can see City Hotel makes more revenue."
      ],
      "metadata": {
        "id": "RIO2BTZjCVgx"
      }
    },
    {
      "cell_type": "markdown",
      "source": [
        "## Which types of rooms are most reserved? "
      ],
      "metadata": {
        "id": "xyubYgF-Cg5S"
      }
    },
    {
      "cell_type": "code",
      "source": [
        "df['reserved_room_type'].value_counts()"
      ],
      "metadata": {
        "colab": {
          "base_uri": "https://localhost:8080/"
        },
        "id": "tirOiOetCcpj",
        "outputId": "424d676a-ac26-4819-9d87-6d0e1f979890"
      },
      "execution_count": null,
      "outputs": [
        {
          "output_type": "execute_result",
          "data": {
            "text/plain": [
              "A    56436\n",
              "D    17376\n",
              "E     6036\n",
              "F     2820\n",
              "G     2050\n",
              "B      996\n",
              "C      914\n",
              "H      596\n",
              "L        6\n",
              "Name: reserved_room_type, dtype: int64"
            ]
          },
          "metadata": {},
          "execution_count": 43
        }
      ]
    },
    {
      "cell_type": "code",
      "source": [
        "sns.countplot(df['reserved_room_type'])\n",
        "plt.show()"
      ],
      "metadata": {
        "colab": {
          "base_uri": "https://localhost:8080/",
          "height": 335
        },
        "id": "NGcOYD46EaDH",
        "outputId": "9b2d16ba-6556-4477-b664-5535c8d527d1"
      },
      "execution_count": null,
      "outputs": [
        {
          "output_type": "stream",
          "name": "stderr",
          "text": [
            "/usr/local/lib/python3.7/dist-packages/seaborn/_decorators.py:43: FutureWarning: Pass the following variable as a keyword arg: x. From version 0.12, the only valid positional argument will be `data`, and passing other arguments without an explicit keyword will result in an error or misinterpretation.\n",
            "  FutureWarning\n"
          ]
        },
        {
          "output_type": "display_data",
          "data": {
            "text/plain": [
              "<Figure size 432x288 with 1 Axes>"
            ],
            "image/png": "[encoded data removed]"
          },
          "metadata": {
            "needs_background": "light"
          }
        }
      ]
    },
    {
      "cell_type": "markdown",
      "source": [
        "We can see room type A has most reserved."
      ],
      "metadata": {
        "id": "Fiqhh8bkyYIB"
      }
    },
    {
      "cell_type": "markdown",
      "source": [
        "# Which types of hotel has higher booking cancelation rate?"
      ],
      "metadata": {
        "id": "gaYlQlKOGeoE"
      }
    },
    {
      "cell_type": "code",
      "source": [
        "sns.barplot( y='is_canceled',  x='hotel', data = df)"
      ],
      "metadata": {
        "colab": {
          "base_uri": "https://localhost:8080/",
          "height": 296
        },
        "id": "A56d_4wpK3n9",
        "outputId": "b9cb06f1-f973-4c8d-f66b-b90a110ca0cd"
      },
      "execution_count": null,
      "outputs": [
        {
          "output_type": "execute_result",
          "data": {
            "text/plain": [
              "<matplotlib.axes._subplots.AxesSubplot at 0x7fed13f66790>"
            ]
          },
          "metadata": {},
          "execution_count": 45
        },
        {
          "output_type": "display_data",
          "data": {
            "text/plain": [
              "<Figure size 432x288 with 1 Axes>"
            ],
            "image/png": "[encoded data removed]"
          },
          "metadata": {
            "needs_background": "light"
          }
        }
      ]
    },
    {
      "cell_type": "markdown",
      "source": [
        "So, City Hotel has the higher cancelation rate."
      ],
      "metadata": {
        "id": "_Y5LfBuELWps"
      }
    },
    {
      "cell_type": "markdown",
      "source": [
        "# Which is the most common channel for booking hotels?"
      ],
      "metadata": {
        "id": "UgNLkJxWJDQs"
      }
    },
    {
      "cell_type": "code",
      "source": [
        "sns.countplot(df['distribution_channel'])\n",
        "plt.title('Most common distribution channel')\n",
        "plt.show()"
      ],
      "metadata": {
        "colab": {
          "base_uri": "https://localhost:8080/",
          "height": 351
        },
        "id": "FG5gjimcJCDl",
        "outputId": "4bcaf694-eabf-45e9-8cbb-88fdeccc5293"
      },
      "execution_count": null,
      "outputs": [
        {
          "output_type": "stream",
          "name": "stderr",
          "text": [
            "/usr/local/lib/python3.7/dist-packages/seaborn/_decorators.py:43: FutureWarning: Pass the following variable as a keyword arg: x. From version 0.12, the only valid positional argument will be `data`, and passing other arguments without an explicit keyword will result in an error or misinterpretation.\n",
            "  FutureWarning\n"
          ]
        },
        {
          "output_type": "display_data",
          "data": {
            "text/plain": [
              "<Figure size 432x288 with 1 Axes>"
            ],
            "image/png": "[encoded data removed]"
          },
          "metadata": {
            "needs_background": "light"
          }
        }
      ]
    },
    {
      "cell_type": "markdown",
      "source": [
        "We see that TA/TO is the most common distribution channel."
      ],
      "metadata": {
        "id": "JfWNn7yEJ4LQ"
      }
    },
    {
      "cell_type": "code",
      "source": [
        "marketseg=df.groupby(['hotel','market_segment']).size().unstack()\n",
        "marketseg.plot(kind='bar',figsize=(10,6))"
      ],
      "metadata": {
        "colab": {
          "base_uri": "https://localhost:8080/",
          "height": 456
        },
        "id": "7mtgtBbVh5hq",
        "outputId": "7cc4a4b8-3c78-4a78-bf44-271b5399cdc7"
      },
      "execution_count": null,
      "outputs": [
        {
          "output_type": "execute_result",
          "data": {
            "text/plain": [
              "<matplotlib.axes._subplots.AxesSubplot at 0x7fed13ebaf50>"
            ]
          },
          "metadata": {},
          "execution_count": 47
        },
        {
          "output_type": "display_data",
          "data": {
            "text/plain": [
              "<Figure size 720x432 with 1 Axes>"
            ],
            "image/png": "[encoded data removed]"
          },
          "metadata": {
            "needs_background": "light"
          }
        }
      ]
    },
    {
      "cell_type": "markdown",
      "source": [
        "## Market segment VS preferred room types"
      ],
      "metadata": {
        "id": "tZs5Vvjrj1q4"
      }
    },
    {
      "cell_type": "code",
      "source": [
        "plt.subplots(figsize=(16,8))\n",
        "sns.countplot(x='reserved_room_type', hue= 'market_segment', data= df)"
      ],
      "metadata": {
        "colab": {
          "base_uri": "https://localhost:8080/",
          "height": 515
        },
        "id": "nCnLigVCiJqN",
        "outputId": "d7aca57d-03dd-448b-b638-6f75e0d28569"
      },
      "execution_count": null,
      "outputs": [
        {
          "output_type": "execute_result",
          "data": {
            "text/plain": [
              "<matplotlib.axes._subplots.AxesSubplot at 0x7fed13d912d0>"
            ]
          },
          "metadata": {},
          "execution_count": 48
        },
        {
          "output_type": "display_data",
          "data": {
            "text/plain": [
              "<Figure size 1152x576 with 1 Axes>"
            ],
            "image/png": "[encoded data removed]"
          },
          "metadata": {
            "needs_background": "light"
          }
        }
      ]
    },
    {
      "cell_type": "markdown",
      "source": [
        "Majority of peoples reserved rooms via online TA from different market segments.\n",
        "Also we can see majority of the people preferred room type A."
      ],
      "metadata": {
        "id": "v8VmO3WUiyTf"
      }
    },
    {
      "cell_type": "markdown",
      "source": [
        "## From which country most of the peoples are coming in the hotel?"
      ],
      "metadata": {
        "id": "QFh-bv39Tw7o"
      }
    },
    {
      "cell_type": "code",
      "source": [
        "df['country'].value_counts()[:10]"
      ],
      "metadata": {
        "colab": {
          "base_uri": "https://localhost:8080/"
        },
        "id": "1wdYYHu_MEBS",
        "outputId": "bd61e945-96a9-4872-9ca0-f6e080a440ed"
      },
      "execution_count": null,
      "outputs": [
        {
          "output_type": "execute_result",
          "data": {
            "text/plain": [
              "PRT    27355\n",
              "GBR    10424\n",
              "FRA     8823\n",
              "ESP     7244\n",
              "DEU     5385\n",
              "ITA     3061\n",
              "IRL     3015\n",
              "BEL     2081\n",
              "BRA     1993\n",
              "NLD     1910\n",
              "Name: country, dtype: int64"
            ]
          },
          "metadata": {},
          "execution_count": 49
        }
      ]
    },
    {
      "cell_type": "code",
      "source": [
        "plt.figure(figsize=(10,5))\n",
        "df['country'].value_counts()[:10] .plot.bar()\n",
        "plt.show()"
      ],
      "metadata": {
        "colab": {
          "base_uri": "https://localhost:8080/",
          "height": 331
        },
        "id": "1H14hIydKEWM",
        "outputId": "7f201791-14c8-4430-edea-8da9d9c2b32c"
      },
      "execution_count": null,
      "outputs": [
        {
          "output_type": "display_data",
          "data": {
            "text/plain": [
              "<Figure size 720x360 with 1 Axes>"
            ],
            "image/png": "[encoded data removed]"
          },
          "metadata": {
            "needs_background": "light"
          }
        }
      ]
    },
    {
      "cell_type": "markdown",
      "source": [
        "We see that most of the customers are come from Portugal, Great Britain, France and Spain."
      ],
      "metadata": {
        "id": "lPZ9BpakZg4k"
      }
    },
    {
      "cell_type": "code",
      "source": [
        "new_order = ['January', 'February', 'March', 'April', 'May', 'June', 'July', 'August', 'September',\n",
        "             'October', 'November', 'December']\n",
        "\n",
        "sorted_months = df.loc[df.hotel=='City Hotel','arrival_date_month'].value_counts().reindex(new_order)\n",
        "\n",
        "x1 = sorted_months.index\n",
        "y1 = sorted_months/sorted_months.sum()*100\n",
        "\n",
        "##for resort\n",
        "new_order = ['January', 'February', 'March', 'April', 'May', 'June', 'July', 'August', 'September',\n",
        "             'October', 'November', 'December']\n",
        "\n",
        "sorted_months = df.loc[df.hotel=='Resort Hotel','arrival_date_month'].value_counts().reindex(new_order)\n",
        "\n",
        "x2 = sorted_months.index\n",
        "y2 = sorted_months/sorted_months.sum()*100\n",
        "\n",
        "\n",
        "#line plot\n",
        "fig, ax = plt.subplots(figsize=(18,6))\n",
        "\n",
        "ax.set_xlabel('Months')\n",
        "ax.set_ylabel('BooKing (%)')\n",
        "ax.set_title('Booking Trend(Monthly)')\n",
        "\n",
        "sns.lineplot(x1,y1.values,label='City Hotel',sort = False)\n",
        "sns.lineplot(x2,y2.values,label='Resort Hotel',sort= False)\n",
        "\n",
        "plt.show()\n",
        "\n"
      ],
      "metadata": {
        "colab": {
          "base_uri": "https://localhost:8080/",
          "height": 493
        },
        "id": "_5B1Tvs5kWMR",
        "outputId": "2164fefa-95e1-46c9-cd70-10e5458d5d07"
      },
      "execution_count": null,
      "outputs": [
        {
          "output_type": "stream",
          "name": "stderr",
          "text": [
            "/usr/local/lib/python3.7/dist-packages/seaborn/_decorators.py:43: FutureWarning: Pass the following variables as keyword args: x, y. From version 0.12, the only valid positional argument will be `data`, and passing other arguments without an explicit keyword will result in an error or misinterpretation.\n",
            "  FutureWarning\n",
            "/usr/local/lib/python3.7/dist-packages/seaborn/_decorators.py:43: FutureWarning: Pass the following variables as keyword args: x, y. From version 0.12, the only valid positional argument will be `data`, and passing other arguments without an explicit keyword will result in an error or misinterpretation.\n",
            "  FutureWarning\n"
          ]
        },
        {
          "output_type": "display_data",
          "data": {
            "text/plain": [
              "<Figure size 1296x432 with 1 Axes>"
            ],
            "image/png": "[encoded data removed]"
          },
          "metadata": {
            "needs_background": "light"
          }
        }
      ]
    },
    {
      "cell_type": "markdown",
      "source": [
        "## Most no of days in waiting list for different market segments"
      ],
      "metadata": {
        "id": "VO7ISGpynJ-d"
      }
    },
    {
      "cell_type": "code",
      "source": [
        "fig,b=plt.subplots(figsize=(10,6))#here waiting list for aviation type is very less\n",
        "b.scatter(df['market_segment'],df['days_in_waiting_list'])\n",
        "b.set_xlabel(('market_segment').upper())\n",
        "b.set_ylabel(('days_in_waiting_list').upper())\n",
        "plt.show()"
      ],
      "metadata": {
        "colab": {
          "base_uri": "https://localhost:8080/",
          "height": 389
        },
        "id": "mjGwJL1fnFrA",
        "outputId": "7d395fe8-37b0-4ee4-da98-f9ad1325f900"
      },
      "execution_count": null,
      "outputs": [
        {
          "output_type": "display_data",
          "data": {
            "text/plain": [
              "<Figure size 720x432 with 1 Axes>"
            ],
            "image/png": "[encoded data removed]"
          },
          "metadata": {
            "needs_background": "light"
          }
        }
      ]
    },
    {
      "cell_type": "markdown",
      "source": [
        "## In which month most of the peoples arrive in the hotel?"
      ],
      "metadata": {
        "id": "EPIBowiBt-AE"
      }
    },
    {
      "cell_type": "code",
      "source": [
        "df1=df.groupby(['arrival_date_month','hotel']).size().unstack()\n",
        "\n",
        "df1.plot(kind='bar')"
      ],
      "metadata": {
        "colab": {
          "base_uri": "https://localhost:8080/",
          "height": 342
        },
        "id": "tit7R3K5MEsb",
        "outputId": "bbf5a56c-7ca1-4055-e7fc-44bb51cabf39"
      },
      "execution_count": null,
      "outputs": [
        {
          "output_type": "execute_result",
          "data": {
            "text/plain": [
              "<matplotlib.axes._subplots.AxesSubplot at 0x7fed13c1bd50>"
            ]
          },
          "metadata": {},
          "execution_count": 53
        },
        {
          "output_type": "display_data",
          "data": {
            "text/plain": [
              "<Figure size 432x288 with 1 Axes>"
            ],
            "image/png": "[encoded data removed]"
          },
          "metadata": {
            "needs_background": "light"
          }
        }
      ]
    },
    {
      "cell_type": "markdown",
      "source": [
        "Most no of peoples arrive in the month of august and city hotel is most prefered than the resort hotel."
      ],
      "metadata": {
        "id": "1EOamtlAukWL"
      }
    },
    {
      "cell_type": "code",
      "source": [
        "df2=df.groupby(['arrival_date_year','hotel']).size().unstack()\n",
        "df2.plot(kind='bar')"
      ],
      "metadata": {
        "colab": {
          "base_uri": "https://localhost:8080/",
          "height": 313
        },
        "id": "o6utn6LxMFwS",
        "outputId": "9820181c-3710-4e3b-c2f9-d518d0ec2014"
      },
      "execution_count": null,
      "outputs": [
        {
          "output_type": "execute_result",
          "data": {
            "text/plain": [
              "<matplotlib.axes._subplots.AxesSubplot at 0x7fed13f47c50>"
            ]
          },
          "metadata": {},
          "execution_count": 54
        },
        {
          "output_type": "display_data",
          "data": {
            "text/plain": [
              "<Figure size 432x288 with 1 Axes>"
            ],
            "image/png": "[encoded data removed]"
          },
          "metadata": {
            "needs_background": "light"
          }
        }
      ]
    },
    {
      "cell_type": "markdown",
      "source": [
        "Most number of peoples arrive in 2016."
      ],
      "metadata": {
        "id": "mwla5FSRx2gy"
      }
    },
    {
      "cell_type": "markdown",
      "source": [
        "## Total people stay Vs adr"
      ],
      "metadata": {
        "id": "gmCiq52VFCLf"
      }
    },
    {
      "cell_type": "code",
      "source": [
        "plt.figure(figsize=(15,8))\n",
        "df_update=df[df['total_people_stay'] < 6]\n",
        "sns.boxplot(x=df_update['total_people_stay'],y=df_update['adr'])"
      ],
      "metadata": {
        "colab": {
          "base_uri": "https://localhost:8080/",
          "height": 515
        },
        "id": "ZsXVZKBGoPSH",
        "outputId": "b8c0de8a-5703-4473-bbc6-60d95efef876"
      },
      "execution_count": null,
      "outputs": [
        {
          "output_type": "execute_result",
          "data": {
            "text/plain": [
              "<matplotlib.axes._subplots.AxesSubplot at 0x7fed13deb7d0>"
            ]
          },
          "metadata": {},
          "execution_count": 55
        },
        {
          "output_type": "display_data",
          "data": {
            "text/plain": [
              "<Figure size 1080x576 with 1 Axes>"
            ],
            "image/png": "[encoded data removed]"
          },
          "metadata": {
            "needs_background": "light"
          }
        }
      ]
    },
    {
      "cell_type": "markdown",
      "source": [
        "## Heatmap "
      ],
      "metadata": {
        "id": "7u9I8_Wy0ATM"
      }
    },
    {
      "cell_type": "code",
      "source": [
        "#Correlation for the dataset.\n",
        "corr_matrix=df.corr()\n",
        "corr_matrix"
      ],
      "metadata": {
        "colab": {
          "base_uri": "https://localhost:8080/",
          "height": 833
        },
        "id": "pHTb7zQsMGA8",
        "outputId": "813c3d20-2409-441b-9075-0f00373a5bd4"
      },
      "execution_count": null,
      "outputs": [
        {
          "output_type": "execute_result",
          "data": {
            "text/plain": [
              "                                is_canceled  lead_time  arrival_date_year  \\\n",
              "is_canceled                        1.000000   0.184515           0.088020   \n",
              "lead_time                          0.184515   1.000000           0.139408   \n",
              "arrival_date_year                  0.088020   0.139408           1.000000   \n",
              "arrival_date_week_number           0.001691   0.101295          -0.513895   \n",
              "arrival_date_day_of_month          0.005449   0.009899          -0.009872   \n",
              "stays_in_weekend_nights            0.060992   0.236316           0.005277   \n",
              "stays_in_week_nights               0.084159   0.312506           0.003765   \n",
              "adults                             0.080271   0.139033           0.038744   \n",
              "children                           0.067182   0.028395           0.041178   \n",
              "babies                            -0.020627  -0.003705          -0.023366   \n",
              "is_repeated_guest                 -0.088764  -0.145777           0.024678   \n",
              "previous_cancellations             0.051501   0.005370          -0.054284   \n",
              "previous_bookings_not_canceled    -0.052178  -0.079021           0.027266   \n",
              "booking_changes                   -0.093236   0.080822           0.008944   \n",
              "agent                             -0.001145   0.080007          -0.002138   \n",
              "company                           -0.075314  -0.078938           0.021289   \n",
              "days_in_waiting_list               0.004710   0.131909          -0.027490   \n",
              "adr                                0.127233   0.021948           0.176594   \n",
              "required_car_parking_spaces       -0.184456  -0.086736          -0.040041   \n",
              "total_of_special_requests         -0.120794   0.034048           0.064210   \n",
              "total_nights_stay                  0.085431   0.320914           0.004776   \n",
              "total_people_stay                  0.098987   0.125262           0.050902   \n",
              "\n",
              "                                arrival_date_week_number  \\\n",
              "is_canceled                                     0.001691   \n",
              "lead_time                                       0.101295   \n",
              "arrival_date_year                              -0.513895   \n",
              "arrival_date_week_number                        1.000000   \n",
              "arrival_date_day_of_month                       0.093273   \n",
              "stays_in_weekend_nights                         0.027466   \n",
              "stays_in_week_nights                            0.028498   \n",
              "adults                                          0.025322   \n",
              "children                                        0.013542   \n",
              "babies                                          0.014302   \n",
              "is_repeated_guest                              -0.038221   \n",
              "previous_cancellations                          0.007038   \n",
              "previous_bookings_not_canceled                 -0.020938   \n",
              "booking_changes                                 0.012943   \n",
              "agent                                           0.019724   \n",
              "company                                        -0.022852   \n",
              "days_in_waiting_list                            0.013159   \n",
              "adr                                             0.099092   \n",
              "required_car_parking_spaces                     0.009054   \n",
              "total_of_special_requests                       0.046759   \n",
              "total_nights_stay                               0.031480   \n",
              "total_people_stay                               0.029802   \n",
              "\n",
              "                                arrival_date_day_of_month  \\\n",
              "is_canceled                                      0.005449   \n",
              "lead_time                                        0.009899   \n",
              "arrival_date_year                               -0.009872   \n",
              "arrival_date_week_number                         0.093273   \n",
              "arrival_date_day_of_month                        1.000000   \n",
              "stays_in_weekend_nights                         -0.017636   \n",
              "stays_in_week_nights                            -0.028375   \n",
              "adults                                          -0.001235   \n",
              "children                                         0.015826   \n",
              "babies                                          -0.000397   \n",
              "is_repeated_guest                               -0.004538   \n",
              "previous_cancellations                          -0.008553   \n",
              "previous_bookings_not_canceled                   0.000148   \n",
              "booking_changes                                  0.007006   \n",
              "agent                                            0.006084   \n",
              "company                                         -0.000598   \n",
              "days_in_waiting_list                             0.006088   \n",
              "adr                                              0.022682   \n",
              "required_car_parking_spaces                      0.009040   \n",
              "total_of_special_requests                       -0.001677   \n",
              "total_nights_stay                               -0.027707   \n",
              "total_people_stay                                0.008110   \n",
              "\n",
              "                                stays_in_weekend_nights  stays_in_week_nights  \\\n",
              "is_canceled                                    0.060992              0.084159   \n",
              "lead_time                                      0.236316              0.312506   \n",
              "arrival_date_year                              0.005277              0.003765   \n",
              "arrival_date_week_number                       0.027466              0.028498   \n",
              "arrival_date_day_of_month                     -0.017636             -0.028375   \n",
              "stays_in_weekend_nights                        1.000000              0.550471   \n",
              "stays_in_week_nights                           0.550471              1.000000   \n",
              "adults                                         0.091450              0.099323   \n",
              "children                                       0.028911              0.030936   \n",
              "babies                                         0.013802              0.016201   \n",
              "is_repeated_guest                             -0.105494             -0.111432   \n",
              "previous_cancellations                        -0.020641             -0.018696   \n",
              "previous_bookings_not_canceled                -0.056891             -0.058714   \n",
              "booking_changes                                0.034624              0.066425   \n",
              "agent                                          0.159637              0.191991   \n",
              "company                                       -0.091615             -0.067063   \n",
              "days_in_waiting_list                          -0.031980              0.001855   \n",
              "adr                                            0.040417              0.055084   \n",
              "required_car_parking_spaces                   -0.042979             -0.044484   \n",
              "total_of_special_requests                      0.032816              0.038336   \n",
              "total_nights_stay                              0.783929              0.949850   \n",
              "total_people_stay                              0.090638              0.098348   \n",
              "\n",
              "                                  adults  children    babies  ...  \\\n",
              "is_canceled                     0.080271  0.067182 -0.020627  ...   \n",
              "lead_time                       0.139033  0.028395 -0.003705  ...   \n",
              "arrival_date_year               0.038744  0.041178 -0.023366  ...   \n",
              "arrival_date_week_number        0.025322  0.013542  0.014302  ...   \n",
              "arrival_date_day_of_month      -0.001235  0.015826 -0.000397  ...   \n",
              "stays_in_weekend_nights         0.091450  0.028911  0.013802  ...   \n",
              "stays_in_week_nights            0.099323  0.030936  0.016201  ...   \n",
              "adults                          1.000000  0.022171  0.016236  ...   \n",
              "children                        0.022171  1.000000  0.017370  ...   \n",
              "babies                          0.016236  0.017370  1.000000  ...   \n",
              "is_repeated_guest              -0.166448 -0.045181 -0.012819  ...   \n",
              "previous_cancellations         -0.042389 -0.019208 -0.005394  ...   \n",
              "previous_bookings_not_canceled -0.122105 -0.029446 -0.009199  ...   \n",
              "booking_changes                -0.036446  0.033409  0.083425  ...   \n",
              "agent                           0.027577  0.041831  0.028895  ...   \n",
              "company                        -0.174641 -0.051007 -0.011402  ...   \n",
              "days_in_waiting_list           -0.014925 -0.020370 -0.006825  ...   \n",
              "adr                             0.241996  0.326359  0.023206  ...   \n",
              "required_car_parking_spaces     0.007015  0.036267  0.030873  ...   \n",
              "total_of_special_requests       0.112509  0.044503  0.094857  ...   \n",
              "total_nights_stay               0.108117  0.033835  0.017218  ...   \n",
              "total_people_stay               0.801991  0.597392  0.166709  ...   \n",
              "\n",
              "                                previous_bookings_not_canceled  \\\n",
              "is_canceled                                          -0.052178   \n",
              "lead_time                                            -0.079021   \n",
              "arrival_date_year                                     0.027266   \n",
              "arrival_date_week_number                             -0.020938   \n",
              "arrival_date_day_of_month                             0.000148   \n",
              "stays_in_weekend_nights                              -0.056891   \n",
              "stays_in_week_nights                                 -0.058714   \n",
              "adults                                               -0.122105   \n",
              "children                                             -0.029446   \n",
              "babies                                               -0.009199   \n",
              "is_repeated_guest                                     0.444326   \n",
              "previous_cancellations                                0.391766   \n",
              "previous_bookings_not_canceled                        1.000000   \n",
              "booking_changes                                       0.005774   \n",
              "agent                                                -0.058120   \n",
              "company                                               0.130482   \n",
              "days_in_waiting_list                                 -0.006334   \n",
              "adr                                                  -0.086052   \n",
              "required_car_parking_spaces                           0.040712   \n",
              "total_of_special_requests                             0.027044   \n",
              "total_nights_stay                                    -0.064973   \n",
              "total_people_stay                                    -0.114406   \n",
              "\n",
              "                                booking_changes     agent   company  \\\n",
              "is_canceled                           -0.093236 -0.001145 -0.075314   \n",
              "lead_time                              0.080822  0.080007 -0.078938   \n",
              "arrival_date_year                      0.008944 -0.002138  0.021289   \n",
              "arrival_date_week_number               0.012943  0.019724 -0.022852   \n",
              "arrival_date_day_of_month              0.007006  0.006084 -0.000598   \n",
              "stays_in_weekend_nights                0.034624  0.159637 -0.091615   \n",
              "stays_in_week_nights                   0.066425  0.191991 -0.067063   \n",
              "adults                                -0.036446  0.027577 -0.174641   \n",
              "children                               0.033409  0.041831 -0.051007   \n",
              "babies                                 0.083425  0.028895 -0.011402   \n",
              "is_repeated_guest                      0.007186 -0.064236  0.200716   \n",
              "previous_cancellations                -0.010267 -0.032979  0.028386   \n",
              "previous_bookings_not_canceled         0.005774 -0.058120  0.130482   \n",
              "booking_changes                        1.000000  0.025173  0.087949   \n",
              "agent                                  0.025173  1.000000 -0.128606   \n",
              "company                                0.087949 -0.128606  1.000000   \n",
              "days_in_waiting_list                   0.024143 -0.015819 -0.007552   \n",
              "adr                                    0.010144  0.007283 -0.138748   \n",
              "required_car_parking_spaces            0.050659  0.122076  0.039698   \n",
              "total_of_special_requests              0.018308  0.033148 -0.106405   \n",
              "total_nights_stay                      0.062366  0.202571 -0.084188   \n",
              "total_people_stay                      0.002619  0.050013 -0.168512   \n",
              "\n",
              "                                days_in_waiting_list       adr  \\\n",
              "is_canceled                                 0.004710  0.127233   \n",
              "lead_time                                   0.131909  0.021948   \n",
              "arrival_date_year                          -0.027490  0.176594   \n",
              "arrival_date_week_number                    0.013159  0.099092   \n",
              "arrival_date_day_of_month                   0.006088  0.022682   \n",
              "stays_in_weekend_nights                    -0.031980  0.040417   \n",
              "stays_in_week_nights                        0.001855  0.055084   \n",
              "adults                                     -0.014925  0.241996   \n",
              "children                                   -0.020370  0.326359   \n",
              "babies                                     -0.006825  0.023206   \n",
              "is_repeated_guest                          -0.012647 -0.149432   \n",
              "previous_cancellations                      0.003733 -0.050359   \n",
              "previous_bookings_not_canceled             -0.006334 -0.086052   \n",
              "booking_changes                             0.024143  0.010144   \n",
              "agent                                      -0.015819  0.007283   \n",
              "company                                    -0.007552 -0.138748   \n",
              "days_in_waiting_list                        1.000000 -0.032522   \n",
              "adr                                        -0.032522  1.000000   \n",
              "required_car_parking_spaces                -0.015995  0.038733   \n",
              "total_of_special_requests                  -0.049438  0.137461   \n",
              "total_nights_stay                          -0.010599  0.056102   \n",
              "total_people_stay                          -0.024488  0.382210   \n",
              "\n",
              "                                required_car_parking_spaces  \\\n",
              "is_canceled                                       -0.184456   \n",
              "lead_time                                         -0.086736   \n",
              "arrival_date_year                                 -0.040041   \n",
              "arrival_date_week_number                           0.009054   \n",
              "arrival_date_day_of_month                          0.009040   \n",
              "stays_in_weekend_nights                           -0.042979   \n",
              "stays_in_week_nights                              -0.044484   \n",
              "adults                                             0.007015   \n",
              "children                                           0.036267   \n",
              "babies                                             0.030873   \n",
              "is_repeated_guest                                  0.073009   \n",
              "previous_cancellations                            -0.003480   \n",
              "previous_bookings_not_canceled                     0.040712   \n",
              "booking_changes                                    0.050659   \n",
              "agent                                              0.122076   \n",
              "company                                            0.039698   \n",
              "days_in_waiting_list                              -0.015995   \n",
              "adr                                                0.038733   \n",
              "required_car_parking_spaces                        1.000000   \n",
              "total_of_special_requests                          0.048479   \n",
              "total_nights_stay                                 -0.049179   \n",
              "total_people_stay                                  0.030905   \n",
              "\n",
              "                                total_of_special_requests  total_nights_stay  \\\n",
              "is_canceled                                     -0.120794           0.085431   \n",
              "lead_time                                        0.034048           0.320914   \n",
              "arrival_date_year                                0.064210           0.004776   \n",
              "arrival_date_week_number                         0.046759           0.031480   \n",
              "arrival_date_day_of_month                       -0.001677          -0.027707   \n",
              "stays_in_weekend_nights                          0.032816           0.783929   \n",
              "stays_in_week_nights                             0.038336           0.949850   \n",
              "adults                                           0.112509           0.108117   \n",
              "children                                         0.044503           0.033835   \n",
              "babies                                           0.094857           0.017218   \n",
              "is_repeated_guest                               -0.001160          -0.122382   \n",
              "previous_cancellations                           0.001695          -0.021635   \n",
              "previous_bookings_not_canceled                   0.027044          -0.064973   \n",
              "booking_changes                                  0.018308           0.062366   \n",
              "agent                                            0.033148           0.202571   \n",
              "company                                         -0.106405          -0.084188   \n",
              "days_in_waiting_list                            -0.049438          -0.010599   \n",
              "adr                                              0.137461           0.056102   \n",
              "required_car_parking_spaces                      0.048479          -0.049179   \n",
              "total_of_special_requests                        1.000000           0.040800   \n",
              "total_nights_stay                                0.040800           1.000000   \n",
              "total_people_stay                                0.127876           0.107087   \n",
              "\n",
              "                                total_people_stay  \n",
              "is_canceled                              0.098987  \n",
              "lead_time                                0.125262  \n",
              "arrival_date_year                        0.050902  \n",
              "arrival_date_week_number                 0.029802  \n",
              "arrival_date_day_of_month                0.008110  \n",
              "stays_in_weekend_nights                  0.090638  \n",
              "stays_in_week_nights                     0.098348  \n",
              "adults                                   0.801991  \n",
              "children                                 0.597392  \n",
              "babies                                   0.166709  \n",
              "is_repeated_guest                       -0.158904  \n",
              "previous_cancellations                  -0.045222  \n",
              "previous_bookings_not_canceled          -0.114406  \n",
              "booking_changes                          0.002619  \n",
              "agent                                    0.050013  \n",
              "company                                 -0.168512  \n",
              "days_in_waiting_list                    -0.024488  \n",
              "adr                                      0.382210  \n",
              "required_car_parking_spaces              0.030905  \n",
              "total_of_special_requests                0.127876  \n",
              "total_nights_stay                        0.107087  \n",
              "total_people_stay                        1.000000  \n",
              "\n",
              "[22 rows x 22 columns]"
            ],
            "text/html": [
              "\n",
              "  <div id=\"df-e8736833-ed5d-4ac4-a50a-07f34d7d6cd5\">\n",
              "    <div class=\"colab-df-container\">\n",
              "      <div>\n",
              "<style scoped>\n",
              "    .dataframe tbody tr th:only-of-type {\n",
              "        vertical-align: middle;\n",
              "    }\n",
              "\n",
              "    .dataframe tbody tr th {\n",
              "        vertical-align: top;\n",
              "    }\n",
              "\n",
              "    .dataframe thead th {\n",
              "        text-align: right;\n",
              "    }\n",
              "</style>\n",
              "<table border=\"1\" class=\"dataframe\">\n",
              "  <thead>\n",
              "    <tr style=\"text-align: right;\">\n",
              "      <th></th>\n",
              "      <th>is_canceled</th>\n",
              "      <th>lead_time</th>\n",
              "      <th>arrival_date_year</th>\n",
              "      <th>arrival_date_week_number</th>\n",
              "      <th>arrival_date_day_of_month</th>\n",
              "      <th>stays_in_weekend_nights</th>\n",
              "      <th>stays_in_week_nights</th>\n",
              "      <th>adults</th>\n",
              "      <th>children</th>\n",
              "      <th>babies</th>\n",
              "      <th>...</th>\n",
              "      <th>previous_bookings_not_canceled</th>\n",
              "      <th>booking_changes</th>\n",
              "      <th>agent</th>\n",
              "      <th>company</th>\n",
              "      <th>days_in_waiting_list</th>\n",
              "      <th>adr</th>\n",
              "      <th>required_car_parking_spaces</th>\n",
              "      <th>total_of_special_requests</th>\n",
              "      <th>total_nights_stay</th>\n",
              "      <th>total_people_stay</th>\n",
              "    </tr>\n",
              "  </thead>\n",
              "  <tbody>\n",
              "    <tr>\n",
              "      <th>is_canceled</th>\n",
              "      <td>1.000000</td>\n",
              "      <td>0.184515</td>\n",
              "      <td>0.088020</td>\n",
              "      <td>0.001691</td>\n",
              "      <td>0.005449</td>\n",
              "      <td>0.060992</td>\n",
              "      <td>0.084159</td>\n",
              "      <td>0.080271</td>\n",
              "      <td>0.067182</td>\n",
              "      <td>-0.020627</td>\n",
              "      <td>...</td>\n",
              "      <td>-0.052178</td>\n",
              "      <td>-0.093236</td>\n",
              "      <td>-0.001145</td>\n",
              "      <td>-0.075314</td>\n",
              "      <td>0.004710</td>\n",
              "      <td>0.127233</td>\n",
              "      <td>-0.184456</td>\n",
              "      <td>-0.120794</td>\n",
              "      <td>0.085431</td>\n",
              "      <td>0.098987</td>\n",
              "    </tr>\n",
              "    <tr>\n",
              "      <th>lead_time</th>\n",
              "      <td>0.184515</td>\n",
              "      <td>1.000000</td>\n",
              "      <td>0.139408</td>\n",
              "      <td>0.101295</td>\n",
              "      <td>0.009899</td>\n",
              "      <td>0.236316</td>\n",
              "      <td>0.312506</td>\n",
              "      <td>0.139033</td>\n",
              "      <td>0.028395</td>\n",
              "      <td>-0.003705</td>\n",
              "      <td>...</td>\n",
              "      <td>-0.079021</td>\n",
              "      <td>0.080822</td>\n",
              "      <td>0.080007</td>\n",
              "      <td>-0.078938</td>\n",
              "      <td>0.131909</td>\n",
              "      <td>0.021948</td>\n",
              "      <td>-0.086736</td>\n",
              "      <td>0.034048</td>\n",
              "      <td>0.320914</td>\n",
              "      <td>0.125262</td>\n",
              "    </tr>\n",
              "    <tr>\n",
              "      <th>arrival_date_year</th>\n",
              "      <td>0.088020</td>\n",
              "      <td>0.139408</td>\n",
              "      <td>1.000000</td>\n",
              "      <td>-0.513895</td>\n",
              "      <td>-0.009872</td>\n",
              "      <td>0.005277</td>\n",
              "      <td>0.003765</td>\n",
              "      <td>0.038744</td>\n",
              "      <td>0.041178</td>\n",
              "      <td>-0.023366</td>\n",
              "      <td>...</td>\n",
              "      <td>0.027266</td>\n",
              "      <td>0.008944</td>\n",
              "      <td>-0.002138</td>\n",
              "      <td>0.021289</td>\n",
              "      <td>-0.027490</td>\n",
              "      <td>0.176594</td>\n",
              "      <td>-0.040041</td>\n",
              "      <td>0.064210</td>\n",
              "      <td>0.004776</td>\n",
              "      <td>0.050902</td>\n",
              "    </tr>\n",
              "    <tr>\n",
              "      <th>arrival_date_week_number</th>\n",
              "      <td>0.001691</td>\n",
              "      <td>0.101295</td>\n",
              "      <td>-0.513895</td>\n",
              "      <td>1.000000</td>\n",
              "      <td>0.093273</td>\n",
              "      <td>0.027466</td>\n",
              "      <td>0.028498</td>\n",
              "      <td>0.025322</td>\n",
              "      <td>0.013542</td>\n",
              "      <td>0.014302</td>\n",
              "      <td>...</td>\n",
              "      <td>-0.020938</td>\n",
              "      <td>0.012943</td>\n",
              "      <td>0.019724</td>\n",
              "      <td>-0.022852</td>\n",
              "      <td>0.013159</td>\n",
              "      <td>0.099092</td>\n",
              "      <td>0.009054</td>\n",
              "      <td>0.046759</td>\n",
              "      <td>0.031480</td>\n",
              "      <td>0.029802</td>\n",
              "    </tr>\n",
              "    <tr>\n",
              "      <th>arrival_date_day_of_month</th>\n",
              "      <td>0.005449</td>\n",
              "      <td>0.009899</td>\n",
              "      <td>-0.009872</td>\n",
              "      <td>0.093273</td>\n",
              "      <td>1.000000</td>\n",
              "      <td>-0.017636</td>\n",
              "      <td>-0.028375</td>\n",
              "      <td>-0.001235</td>\n",
              "      <td>0.015826</td>\n",
              "      <td>-0.000397</td>\n",
              "      <td>...</td>\n",
              "      <td>0.000148</td>\n",
              "      <td>0.007006</td>\n",
              "      <td>0.006084</td>\n",
              "      <td>-0.000598</td>\n",
              "      <td>0.006088</td>\n",
              "      <td>0.022682</td>\n",
              "      <td>0.009040</td>\n",
              "      <td>-0.001677</td>\n",
              "      <td>-0.027707</td>\n",
              "      <td>0.008110</td>\n",
              "    </tr>\n",
              "    <tr>\n",
              "      <th>stays_in_weekend_nights</th>\n",
              "      <td>0.060992</td>\n",
              "      <td>0.236316</td>\n",
              "      <td>0.005277</td>\n",
              "      <td>0.027466</td>\n",
              "      <td>-0.017636</td>\n",
              "      <td>1.000000</td>\n",
              "      <td>0.550471</td>\n",
              "      <td>0.091450</td>\n",
              "      <td>0.028911</td>\n",
              "      <td>0.013802</td>\n",
              "      <td>...</td>\n",
              "      <td>-0.056891</td>\n",
              "      <td>0.034624</td>\n",
              "      <td>0.159637</td>\n",
              "      <td>-0.091615</td>\n",
              "      <td>-0.031980</td>\n",
              "      <td>0.040417</td>\n",
              "      <td>-0.042979</td>\n",
              "      <td>0.032816</td>\n",
              "      <td>0.783929</td>\n",
              "      <td>0.090638</td>\n",
              "    </tr>\n",
              "    <tr>\n",
              "      <th>stays_in_week_nights</th>\n",
              "      <td>0.084159</td>\n",
              "      <td>0.312506</td>\n",
              "      <td>0.003765</td>\n",
              "      <td>0.028498</td>\n",
              "      <td>-0.028375</td>\n",
              "      <td>0.550471</td>\n",
              "      <td>1.000000</td>\n",
              "      <td>0.099323</td>\n",
              "      <td>0.030936</td>\n",
              "      <td>0.016201</td>\n",
              "      <td>...</td>\n",
              "      <td>-0.058714</td>\n",
              "      <td>0.066425</td>\n",
              "      <td>0.191991</td>\n",
              "      <td>-0.067063</td>\n",
              "      <td>0.001855</td>\n",
              "      <td>0.055084</td>\n",
              "      <td>-0.044484</td>\n",
              "      <td>0.038336</td>\n",
              "      <td>0.949850</td>\n",
              "      <td>0.098348</td>\n",
              "    </tr>\n",
              "    <tr>\n",
              "      <th>adults</th>\n",
              "      <td>0.080271</td>\n",
              "      <td>0.139033</td>\n",
              "      <td>0.038744</td>\n",
              "      <td>0.025322</td>\n",
              "      <td>-0.001235</td>\n",
              "      <td>0.091450</td>\n",
              "      <td>0.099323</td>\n",
              "      <td>1.000000</td>\n",
              "      <td>0.022171</td>\n",
              "      <td>0.016236</td>\n",
              "      <td>...</td>\n",
              "      <td>-0.122105</td>\n",
              "      <td>-0.036446</td>\n",
              "      <td>0.027577</td>\n",
              "      <td>-0.174641</td>\n",
              "      <td>-0.014925</td>\n",
              "      <td>0.241996</td>\n",
              "      <td>0.007015</td>\n",
              "      <td>0.112509</td>\n",
              "      <td>0.108117</td>\n",
              "      <td>0.801991</td>\n",
              "    </tr>\n",
              "    <tr>\n",
              "      <th>children</th>\n",
              "      <td>0.067182</td>\n",
              "      <td>0.028395</td>\n",
              "      <td>0.041178</td>\n",
              "      <td>0.013542</td>\n",
              "      <td>0.015826</td>\n",
              "      <td>0.028911</td>\n",
              "      <td>0.030936</td>\n",
              "      <td>0.022171</td>\n",
              "      <td>1.000000</td>\n",
              "      <td>0.017370</td>\n",
              "      <td>...</td>\n",
              "      <td>-0.029446</td>\n",
              "      <td>0.033409</td>\n",
              "      <td>0.041831</td>\n",
              "      <td>-0.051007</td>\n",
              "      <td>-0.020370</td>\n",
              "      <td>0.326359</td>\n",
              "      <td>0.036267</td>\n",
              "      <td>0.044503</td>\n",
              "      <td>0.033835</td>\n",
              "      <td>0.597392</td>\n",
              "    </tr>\n",
              "    <tr>\n",
              "      <th>babies</th>\n",
              "      <td>-0.020627</td>\n",
              "      <td>-0.003705</td>\n",
              "      <td>-0.023366</td>\n",
              "      <td>0.014302</td>\n",
              "      <td>-0.000397</td>\n",
              "      <td>0.013802</td>\n",
              "      <td>0.016201</td>\n",
              "      <td>0.016236</td>\n",
              "      <td>0.017370</td>\n",
              "      <td>1.000000</td>\n",
              "      <td>...</td>\n",
              "      <td>-0.009199</td>\n",
              "      <td>0.083425</td>\n",
              "      <td>0.028895</td>\n",
              "      <td>-0.011402</td>\n",
              "      <td>-0.006825</td>\n",
              "      <td>0.023206</td>\n",
              "      <td>0.030873</td>\n",
              "      <td>0.094857</td>\n",
              "      <td>0.017218</td>\n",
              "      <td>0.166709</td>\n",
              "    </tr>\n",
              "    <tr>\n",
              "      <th>is_repeated_guest</th>\n",
              "      <td>-0.088764</td>\n",
              "      <td>-0.145777</td>\n",
              "      <td>0.024678</td>\n",
              "      <td>-0.038221</td>\n",
              "      <td>-0.004538</td>\n",
              "      <td>-0.105494</td>\n",
              "      <td>-0.111432</td>\n",
              "      <td>-0.166448</td>\n",
              "      <td>-0.045181</td>\n",
              "      <td>-0.012819</td>\n",
              "      <td>...</td>\n",
              "      <td>0.444326</td>\n",
              "      <td>0.007186</td>\n",
              "      <td>-0.064236</td>\n",
              "      <td>0.200716</td>\n",
              "      <td>-0.012647</td>\n",
              "      <td>-0.149432</td>\n",
              "      <td>0.073009</td>\n",
              "      <td>-0.001160</td>\n",
              "      <td>-0.122382</td>\n",
              "      <td>-0.158904</td>\n",
              "    </tr>\n",
              "    <tr>\n",
              "      <th>previous_cancellations</th>\n",
              "      <td>0.051501</td>\n",
              "      <td>0.005370</td>\n",
              "      <td>-0.054284</td>\n",
              "      <td>0.007038</td>\n",
              "      <td>-0.008553</td>\n",
              "      <td>-0.020641</td>\n",
              "      <td>-0.018696</td>\n",
              "      <td>-0.042389</td>\n",
              "      <td>-0.019208</td>\n",
              "      <td>-0.005394</td>\n",
              "      <td>...</td>\n",
              "      <td>0.391766</td>\n",
              "      <td>-0.010267</td>\n",
              "      <td>-0.032979</td>\n",
              "      <td>0.028386</td>\n",
              "      <td>0.003733</td>\n",
              "      <td>-0.050359</td>\n",
              "      <td>-0.003480</td>\n",
              "      <td>0.001695</td>\n",
              "      <td>-0.021635</td>\n",
              "      <td>-0.045222</td>\n",
              "    </tr>\n",
              "    <tr>\n",
              "      <th>previous_bookings_not_canceled</th>\n",
              "      <td>-0.052178</td>\n",
              "      <td>-0.079021</td>\n",
              "      <td>0.027266</td>\n",
              "      <td>-0.020938</td>\n",
              "      <td>0.000148</td>\n",
              "      <td>-0.056891</td>\n",
              "      <td>-0.058714</td>\n",
              "      <td>-0.122105</td>\n",
              "      <td>-0.029446</td>\n",
              "      <td>-0.009199</td>\n",
              "      <td>...</td>\n",
              "      <td>1.000000</td>\n",
              "      <td>0.005774</td>\n",
              "      <td>-0.058120</td>\n",
              "      <td>0.130482</td>\n",
              "      <td>-0.006334</td>\n",
              "      <td>-0.086052</td>\n",
              "      <td>0.040712</td>\n",
              "      <td>0.027044</td>\n",
              "      <td>-0.064973</td>\n",
              "      <td>-0.114406</td>\n",
              "    </tr>\n",
              "    <tr>\n",
              "      <th>booking_changes</th>\n",
              "      <td>-0.093236</td>\n",
              "      <td>0.080822</td>\n",
              "      <td>0.008944</td>\n",
              "      <td>0.012943</td>\n",
              "      <td>0.007006</td>\n",
              "      <td>0.034624</td>\n",
              "      <td>0.066425</td>\n",
              "      <td>-0.036446</td>\n",
              "      <td>0.033409</td>\n",
              "      <td>0.083425</td>\n",
              "      <td>...</td>\n",
              "      <td>0.005774</td>\n",
              "      <td>1.000000</td>\n",
              "      <td>0.025173</td>\n",
              "      <td>0.087949</td>\n",
              "      <td>0.024143</td>\n",
              "      <td>0.010144</td>\n",
              "      <td>0.050659</td>\n",
              "      <td>0.018308</td>\n",
              "      <td>0.062366</td>\n",
              "      <td>0.002619</td>\n",
              "    </tr>\n",
              "    <tr>\n",
              "      <th>agent</th>\n",
              "      <td>-0.001145</td>\n",
              "      <td>0.080007</td>\n",
              "      <td>-0.002138</td>\n",
              "      <td>0.019724</td>\n",
              "      <td>0.006084</td>\n",
              "      <td>0.159637</td>\n",
              "      <td>0.191991</td>\n",
              "      <td>0.027577</td>\n",
              "      <td>0.041831</td>\n",
              "      <td>0.028895</td>\n",
              "      <td>...</td>\n",
              "      <td>-0.058120</td>\n",
              "      <td>0.025173</td>\n",
              "      <td>1.000000</td>\n",
              "      <td>-0.128606</td>\n",
              "      <td>-0.015819</td>\n",
              "      <td>0.007283</td>\n",
              "      <td>0.122076</td>\n",
              "      <td>0.033148</td>\n",
              "      <td>0.202571</td>\n",
              "      <td>0.050013</td>\n",
              "    </tr>\n",
              "    <tr>\n",
              "      <th>company</th>\n",
              "      <td>-0.075314</td>\n",
              "      <td>-0.078938</td>\n",
              "      <td>0.021289</td>\n",
              "      <td>-0.022852</td>\n",
              "      <td>-0.000598</td>\n",
              "      <td>-0.091615</td>\n",
              "      <td>-0.067063</td>\n",
              "      <td>-0.174641</td>\n",
              "      <td>-0.051007</td>\n",
              "      <td>-0.011402</td>\n",
              "      <td>...</td>\n",
              "      <td>0.130482</td>\n",
              "      <td>0.087949</td>\n",
              "      <td>-0.128606</td>\n",
              "      <td>1.000000</td>\n",
              "      <td>-0.007552</td>\n",
              "      <td>-0.138748</td>\n",
              "      <td>0.039698</td>\n",
              "      <td>-0.106405</td>\n",
              "      <td>-0.084188</td>\n",
              "      <td>-0.168512</td>\n",
              "    </tr>\n",
              "    <tr>\n",
              "      <th>days_in_waiting_list</th>\n",
              "      <td>0.004710</td>\n",
              "      <td>0.131909</td>\n",
              "      <td>-0.027490</td>\n",
              "      <td>0.013159</td>\n",
              "      <td>0.006088</td>\n",
              "      <td>-0.031980</td>\n",
              "      <td>0.001855</td>\n",
              "      <td>-0.014925</td>\n",
              "      <td>-0.020370</td>\n",
              "      <td>-0.006825</td>\n",
              "      <td>...</td>\n",
              "      <td>-0.006334</td>\n",
              "      <td>0.024143</td>\n",
              "      <td>-0.015819</td>\n",
              "      <td>-0.007552</td>\n",
              "      <td>1.000000</td>\n",
              "      <td>-0.032522</td>\n",
              "      <td>-0.015995</td>\n",
              "      <td>-0.049438</td>\n",
              "      <td>-0.010599</td>\n",
              "      <td>-0.024488</td>\n",
              "    </tr>\n",
              "    <tr>\n",
              "      <th>adr</th>\n",
              "      <td>0.127233</td>\n",
              "      <td>0.021948</td>\n",
              "      <td>0.176594</td>\n",
              "      <td>0.099092</td>\n",
              "      <td>0.022682</td>\n",
              "      <td>0.040417</td>\n",
              "      <td>0.055084</td>\n",
              "      <td>0.241996</td>\n",
              "      <td>0.326359</td>\n",
              "      <td>0.023206</td>\n",
              "      <td>...</td>\n",
              "      <td>-0.086052</td>\n",
              "      <td>0.010144</td>\n",
              "      <td>0.007283</td>\n",
              "      <td>-0.138748</td>\n",
              "      <td>-0.032522</td>\n",
              "      <td>1.000000</td>\n",
              "      <td>0.038733</td>\n",
              "      <td>0.137461</td>\n",
              "      <td>0.056102</td>\n",
              "      <td>0.382210</td>\n",
              "    </tr>\n",
              "    <tr>\n",
              "      <th>required_car_parking_spaces</th>\n",
              "      <td>-0.184456</td>\n",
              "      <td>-0.086736</td>\n",
              "      <td>-0.040041</td>\n",
              "      <td>0.009054</td>\n",
              "      <td>0.009040</td>\n",
              "      <td>-0.042979</td>\n",
              "      <td>-0.044484</td>\n",
              "      <td>0.007015</td>\n",
              "      <td>0.036267</td>\n",
              "      <td>0.030873</td>\n",
              "      <td>...</td>\n",
              "      <td>0.040712</td>\n",
              "      <td>0.050659</td>\n",
              "      <td>0.122076</td>\n",
              "      <td>0.039698</td>\n",
              "      <td>-0.015995</td>\n",
              "      <td>0.038733</td>\n",
              "      <td>1.000000</td>\n",
              "      <td>0.048479</td>\n",
              "      <td>-0.049179</td>\n",
              "      <td>0.030905</td>\n",
              "    </tr>\n",
              "    <tr>\n",
              "      <th>total_of_special_requests</th>\n",
              "      <td>-0.120794</td>\n",
              "      <td>0.034048</td>\n",
              "      <td>0.064210</td>\n",
              "      <td>0.046759</td>\n",
              "      <td>-0.001677</td>\n",
              "      <td>0.032816</td>\n",
              "      <td>0.038336</td>\n",
              "      <td>0.112509</td>\n",
              "      <td>0.044503</td>\n",
              "      <td>0.094857</td>\n",
              "      <td>...</td>\n",
              "      <td>0.027044</td>\n",
              "      <td>0.018308</td>\n",
              "      <td>0.033148</td>\n",
              "      <td>-0.106405</td>\n",
              "      <td>-0.049438</td>\n",
              "      <td>0.137461</td>\n",
              "      <td>0.048479</td>\n",
              "      <td>1.000000</td>\n",
              "      <td>0.040800</td>\n",
              "      <td>0.127876</td>\n",
              "    </tr>\n",
              "    <tr>\n",
              "      <th>total_nights_stay</th>\n",
              "      <td>0.085431</td>\n",
              "      <td>0.320914</td>\n",
              "      <td>0.004776</td>\n",
              "      <td>0.031480</td>\n",
              "      <td>-0.027707</td>\n",
              "      <td>0.783929</td>\n",
              "      <td>0.949850</td>\n",
              "      <td>0.108117</td>\n",
              "      <td>0.033835</td>\n",
              "      <td>0.017218</td>\n",
              "      <td>...</td>\n",
              "      <td>-0.064973</td>\n",
              "      <td>0.062366</td>\n",
              "      <td>0.202571</td>\n",
              "      <td>-0.084188</td>\n",
              "      <td>-0.010599</td>\n",
              "      <td>0.056102</td>\n",
              "      <td>-0.049179</td>\n",
              "      <td>0.040800</td>\n",
              "      <td>1.000000</td>\n",
              "      <td>0.107087</td>\n",
              "    </tr>\n",
              "    <tr>\n",
              "      <th>total_people_stay</th>\n",
              "      <td>0.098987</td>\n",
              "      <td>0.125262</td>\n",
              "      <td>0.050902</td>\n",
              "      <td>0.029802</td>\n",
              "      <td>0.008110</td>\n",
              "      <td>0.090638</td>\n",
              "      <td>0.098348</td>\n",
              "      <td>0.801991</td>\n",
              "      <td>0.597392</td>\n",
              "      <td>0.166709</td>\n",
              "      <td>...</td>\n",
              "      <td>-0.114406</td>\n",
              "      <td>0.002619</td>\n",
              "      <td>0.050013</td>\n",
              "      <td>-0.168512</td>\n",
              "      <td>-0.024488</td>\n",
              "      <td>0.382210</td>\n",
              "      <td>0.030905</td>\n",
              "      <td>0.127876</td>\n",
              "      <td>0.107087</td>\n",
              "      <td>1.000000</td>\n",
              "    </tr>\n",
              "  </tbody>\n",
              "</table>\n",
              "<p>22 rows × 22 columns</p>\n",
              "</div>\n",
              "      <button class=\"colab-df-convert\" onclick=\"convertToInteractive('df-e8736833-ed5d-4ac4-a50a-07f34d7d6cd5')\"\n",
              "              title=\"Convert this dataframe to an interactive table.\"\n",
              "              style=\"display:none;\">\n",
              "        \n",
              "  <svg xmlns=\"http://www.w3.org/2000/svg\" height=\"24px\"viewBox=\"0 0 24 24\"\n",
              "       width=\"24px\">\n",
              "    <path d=\"M0 0h24v24H0V0z\" fill=\"none\"/>\n",
              "    <path d=\"M18.56 5.44l.94 2.06.94-2.06 2.06-.94-2.06-.94-.94-2.06-.94 2.06-2.06.94zm-11 1L8.5 8.5l.94-2.06 2.06-.94-2.06-.94L8.5 2.5l-.94 2.06-2.06.94zm10 10l.94 2.06.94-2.06 2.06-.94-2.06-.94-.94-2.06-.94 2.06-2.06.94z\"/><path d=\"M17.41 7.96l-1.37-1.37c-.4-.4-.92-.59-1.43-.59-.52 0-1.04.2-1.43.59L10.3 9.45l-7.72 7.72c-.78.78-.78 2.05 0 2.83L4 21.41c.39.39.9.59 1.41.59.51 0 1.02-.2 1.41-.59l7.78-7.78 2.81-2.81c.8-.78.8-2.07 0-2.86zM5.41 20L4 18.59l7.72-7.72 1.47 1.35L5.41 20z\"/>\n",
              "  </svg>\n",
              "      </button>\n",
              "      \n",
              "  <style>\n",
              "    .colab-df-container {\n",
              "      display:flex;\n",
              "      flex-wrap:wrap;\n",
              "      gap: 12px;\n",
              "    }\n",
              "\n",
              "    .colab-df-convert {\n",
              "      background-color: #E8F0FE;\n",
              "      border: none;\n",
              "      border-radius: 50%;\n",
              "      cursor: pointer;\n",
              "      display: none;\n",
              "      fill: #1967D2;\n",
              "      height: 32px;\n",
              "      padding: 0 0 0 0;\n",
              "      width: 32px;\n",
              "    }\n",
              "\n",
              "    .colab-df-convert:hover {\n",
              "      background-color: #E2EBFA;\n",
              "      box-shadow: 0px 1px 2px rgba(60, 64, 67, 0.3), 0px 1px 3px 1px rgba(60, 64, 67, 0.15);\n",
              "      fill: #174EA6;\n",
              "    }\n",
              "\n",
              "    [theme=dark] .colab-df-convert {\n",
              "      background-color: #3B4455;\n",
              "      fill: #D2E3FC;\n",
              "    }\n",
              "\n",
              "    [theme=dark] .colab-df-convert:hover {\n",
              "      background-color: #434B5C;\n",
              "      box-shadow: 0px 1px 3px 1px rgba(0, 0, 0, 0.15);\n",
              "      filter: drop-shadow(0px 1px 2px rgba(0, 0, 0, 0.3));\n",
              "      fill: #FFFFFF;\n",
              "    }\n",
              "  </style>\n",
              "\n",
              "      <script>\n",
              "        const buttonEl =\n",
              "          document.querySelector('#df-e8736833-ed5d-4ac4-a50a-07f34d7d6cd5 button.colab-df-convert');\n",
              "        buttonEl.style.display =\n",
              "          google.colab.kernel.accessAllowed ? 'block' : 'none';\n",
              "\n",
              "        async function convertToInteractive(key) {\n",
              "          const element = document.querySelector('#df-e8736833-ed5d-4ac4-a50a-07f34d7d6cd5');\n",
              "          const dataTable =\n",
              "            await google.colab.kernel.invokeFunction('convertToInteractive',\n",
              "                                                     [key], {});\n",
              "          if (!dataTable) return;\n",
              "\n",
              "          const docLinkHtml = 'Like what you see? Visit the ' +\n",
              "            '<a target=\"_blank\" href=https://colab.research.google.com/notebooks/data_table.ipynb>data table notebook</a>'\n",
              "            + ' to learn more about interactive tables.';\n",
              "          element.innerHTML = '';\n",
              "          dataTable['output_type'] = 'display_data';\n",
              "          await google.colab.output.renderOutput(dataTable, element);\n",
              "          const docLink = document.createElement('div');\n",
              "          docLink.innerHTML = docLinkHtml;\n",
              "          element.appendChild(docLink);\n",
              "        }\n",
              "      </script>\n",
              "    </div>\n",
              "  </div>\n",
              "  "
            ]
          },
          "metadata": {},
          "execution_count": 56
        }
      ]
    },
    {
      "cell_type": "code",
      "source": [
        "plt.figure(figsize=(20,10))\n",
        "sns.heatmap(corr_matrix,cmap='icefire_r',annot=True)"
      ],
      "metadata": {
        "colab": {
          "base_uri": "https://localhost:8080/",
          "height": 766
        },
        "id": "bLY_iAmOMGPn",
        "outputId": "6c218bdd-8dfc-420c-e1f4-b417fc181586"
      },
      "execution_count": null,
      "outputs": [
        {
          "output_type": "execute_result",
          "data": {
            "text/plain": [
              "<matplotlib.axes._subplots.AxesSubplot at 0x7fed13a857d0>"
            ]
          },
          "metadata": {},
          "execution_count": 57
        },
        {
          "output_type": "display_data",
          "data": {
            "text/plain": [
              "<Figure size 1440x720 with 2 Axes>"
            ],
            "image/png": "[encoded data removed]"
          },
          "metadata": {
            "needs_background": "light"
          }
        }
      ]
    },
    {
      "cell_type": "code",
      "source": [
        "new_df = df[['hotel','lead_time','previous_cancellations','previous_bookings_not_canceled','booking_changes','adr','total_people_stay','arrival_date_month']]\n",
        "corr_new_df=new_df.corr()\n",
        "corr_new_df\n"
      ],
      "metadata": {
        "colab": {
          "base_uri": "https://localhost:8080/",
          "height": 238
        },
        "id": "9-MEbAKR4Diz",
        "outputId": "b210b72a-07ab-42a0-860e-0747729f0b96"
      },
      "execution_count": null,
      "outputs": [
        {
          "output_type": "execute_result",
          "data": {
            "text/plain": [
              "                                lead_time  previous_cancellations  \\\n",
              "lead_time                        1.000000                0.005370   \n",
              "previous_cancellations           0.005370                1.000000   \n",
              "previous_bookings_not_canceled  -0.079021                0.391766   \n",
              "booking_changes                  0.080822               -0.010267   \n",
              "adr                              0.021948               -0.050359   \n",
              "total_people_stay                0.125262               -0.045222   \n",
              "\n",
              "                                previous_bookings_not_canceled  \\\n",
              "lead_time                                            -0.079021   \n",
              "previous_cancellations                                0.391766   \n",
              "previous_bookings_not_canceled                        1.000000   \n",
              "booking_changes                                       0.005774   \n",
              "adr                                                  -0.086052   \n",
              "total_people_stay                                    -0.114406   \n",
              "\n",
              "                                booking_changes       adr  total_people_stay  \n",
              "lead_time                              0.080822  0.021948           0.125262  \n",
              "previous_cancellations                -0.010267 -0.050359          -0.045222  \n",
              "previous_bookings_not_canceled         0.005774 -0.086052          -0.114406  \n",
              "booking_changes                        1.000000  0.010144           0.002619  \n",
              "adr                                    0.010144  1.000000           0.382210  \n",
              "total_people_stay                      0.002619  0.382210           1.000000  "
            ],
            "text/html": [
              "\n",
              "  <div id=\"df-763df825-4568-4974-8476-055c07463b74\">\n",
              "    <div class=\"colab-df-container\">\n",
              "      <div>\n",
              "<style scoped>\n",
              "    .dataframe tbody tr th:only-of-type {\n",
              "        vertical-align: middle;\n",
              "    }\n",
              "\n",
              "    .dataframe tbody tr th {\n",
              "        vertical-align: top;\n",
              "    }\n",
              "\n",
              "    .dataframe thead th {\n",
              "        text-align: right;\n",
              "    }\n",
              "</style>\n",
              "<table border=\"1\" class=\"dataframe\">\n",
              "  <thead>\n",
              "    <tr style=\"text-align: right;\">\n",
              "      <th></th>\n",
              "      <th>lead_time</th>\n",
              "      <th>previous_cancellations</th>\n",
              "      <th>previous_bookings_not_canceled</th>\n",
              "      <th>booking_changes</th>\n",
              "      <th>adr</th>\n",
              "      <th>total_people_stay</th>\n",
              "    </tr>\n",
              "  </thead>\n",
              "  <tbody>\n",
              "    <tr>\n",
              "      <th>lead_time</th>\n",
              "      <td>1.000000</td>\n",
              "      <td>0.005370</td>\n",
              "      <td>-0.079021</td>\n",
              "      <td>0.080822</td>\n",
              "      <td>0.021948</td>\n",
              "      <td>0.125262</td>\n",
              "    </tr>\n",
              "    <tr>\n",
              "      <th>previous_cancellations</th>\n",
              "      <td>0.005370</td>\n",
              "      <td>1.000000</td>\n",
              "      <td>0.391766</td>\n",
              "      <td>-0.010267</td>\n",
              "      <td>-0.050359</td>\n",
              "      <td>-0.045222</td>\n",
              "    </tr>\n",
              "    <tr>\n",
              "      <th>previous_bookings_not_canceled</th>\n",
              "      <td>-0.079021</td>\n",
              "      <td>0.391766</td>\n",
              "      <td>1.000000</td>\n",
              "      <td>0.005774</td>\n",
              "      <td>-0.086052</td>\n",
              "      <td>-0.114406</td>\n",
              "    </tr>\n",
              "    <tr>\n",
              "      <th>booking_changes</th>\n",
              "      <td>0.080822</td>\n",
              "      <td>-0.010267</td>\n",
              "      <td>0.005774</td>\n",
              "      <td>1.000000</td>\n",
              "      <td>0.010144</td>\n",
              "      <td>0.002619</td>\n",
              "    </tr>\n",
              "    <tr>\n",
              "      <th>adr</th>\n",
              "      <td>0.021948</td>\n",
              "      <td>-0.050359</td>\n",
              "      <td>-0.086052</td>\n",
              "      <td>0.010144</td>\n",
              "      <td>1.000000</td>\n",
              "      <td>0.382210</td>\n",
              "    </tr>\n",
              "    <tr>\n",
              "      <th>total_people_stay</th>\n",
              "      <td>0.125262</td>\n",
              "      <td>-0.045222</td>\n",
              "      <td>-0.114406</td>\n",
              "      <td>0.002619</td>\n",
              "      <td>0.382210</td>\n",
              "      <td>1.000000</td>\n",
              "    </tr>\n",
              "  </tbody>\n",
              "</table>\n",
              "</div>\n",
              "      <button class=\"colab-df-convert\" onclick=\"convertToInteractive('df-763df825-4568-4974-8476-055c07463b74')\"\n",
              "              title=\"Convert this dataframe to an interactive table.\"\n",
              "              style=\"display:none;\">\n",
              "        \n",
              "  <svg xmlns=\"http://www.w3.org/2000/svg\" height=\"24px\"viewBox=\"0 0 24 24\"\n",
              "       width=\"24px\">\n",
              "    <path d=\"M0 0h24v24H0V0z\" fill=\"none\"/>\n",
              "    <path d=\"M18.56 5.44l.94 2.06.94-2.06 2.06-.94-2.06-.94-.94-2.06-.94 2.06-2.06.94zm-11 1L8.5 8.5l.94-2.06 2.06-.94-2.06-.94L8.5 2.5l-.94 2.06-2.06.94zm10 10l.94 2.06.94-2.06 2.06-.94-2.06-.94-.94-2.06-.94 2.06-2.06.94z\"/><path d=\"M17.41 7.96l-1.37-1.37c-.4-.4-.92-.59-1.43-.59-.52 0-1.04.2-1.43.59L10.3 9.45l-7.72 7.72c-.78.78-.78 2.05 0 2.83L4 21.41c.39.39.9.59 1.41.59.51 0 1.02-.2 1.41-.59l7.78-7.78 2.81-2.81c.8-.78.8-2.07 0-2.86zM5.41 20L4 18.59l7.72-7.72 1.47 1.35L5.41 20z\"/>\n",
              "  </svg>\n",
              "      </button>\n",
              "      \n",
              "  <style>\n",
              "    .colab-df-container {\n",
              "      display:flex;\n",
              "      flex-wrap:wrap;\n",
              "      gap: 12px;\n",
              "    }\n",
              "\n",
              "    .colab-df-convert {\n",
              "      background-color: #E8F0FE;\n",
              "      border: none;\n",
              "      border-radius: 50%;\n",
              "      cursor: pointer;\n",
              "      display: none;\n",
              "      fill: #1967D2;\n",
              "      height: 32px;\n",
              "      padding: 0 0 0 0;\n",
              "      width: 32px;\n",
              "    }\n",
              "\n",
              "    .colab-df-convert:hover {\n",
              "      background-color: #E2EBFA;\n",
              "      box-shadow: 0px 1px 2px rgba(60, 64, 67, 0.3), 0px 1px 3px 1px rgba(60, 64, 67, 0.15);\n",
              "      fill: #174EA6;\n",
              "    }\n",
              "\n",
              "    [theme=dark] .colab-df-convert {\n",
              "      background-color: #3B4455;\n",
              "      fill: #D2E3FC;\n",
              "    }\n",
              "\n",
              "    [theme=dark] .colab-df-convert:hover {\n",
              "      background-color: #434B5C;\n",
              "      box-shadow: 0px 1px 3px 1px rgba(0, 0, 0, 0.15);\n",
              "      filter: drop-shadow(0px 1px 2px rgba(0, 0, 0, 0.3));\n",
              "      fill: #FFFFFF;\n",
              "    }\n",
              "  </style>\n",
              "\n",
              "      <script>\n",
              "        const buttonEl =\n",
              "          document.querySelector('#df-763df825-4568-4974-8476-055c07463b74 button.colab-df-convert');\n",
              "        buttonEl.style.display =\n",
              "          google.colab.kernel.accessAllowed ? 'block' : 'none';\n",
              "\n",
              "        async function convertToInteractive(key) {\n",
              "          const element = document.querySelector('#df-763df825-4568-4974-8476-055c07463b74');\n",
              "          const dataTable =\n",
              "            await google.colab.kernel.invokeFunction('convertToInteractive',\n",
              "                                                     [key], {});\n",
              "          if (!dataTable) return;\n",
              "\n",
              "          const docLinkHtml = 'Like what you see? Visit the ' +\n",
              "            '<a target=\"_blank\" href=https://colab.research.google.com/notebooks/data_table.ipynb>data table notebook</a>'\n",
              "            + ' to learn more about interactive tables.';\n",
              "          element.innerHTML = '';\n",
              "          dataTable['output_type'] = 'display_data';\n",
              "          await google.colab.output.renderOutput(dataTable, element);\n",
              "          const docLink = document.createElement('div');\n",
              "          docLink.innerHTML = docLinkHtml;\n",
              "          element.appendChild(docLink);\n",
              "        }\n",
              "      </script>\n",
              "    </div>\n",
              "  </div>\n",
              "  "
            ]
          },
          "metadata": {},
          "execution_count": 58
        }
      ]
    },
    {
      "cell_type": "code",
      "source": [
        "sns.heatmap(corr_new_df,cmap='icefire_r',annot=True)"
      ],
      "metadata": {
        "colab": {
          "base_uri": "https://localhost:8080/",
          "height": 440
        },
        "id": "I4RJ30CI4D9C",
        "outputId": "a6003905-7dd2-4643-e43a-9fc87d108a6e"
      },
      "execution_count": null,
      "outputs": [
        {
          "output_type": "execute_result",
          "data": {
            "text/plain": [
              "<matplotlib.axes._subplots.AxesSubplot at 0x7fed10c68090>"
            ]
          },
          "metadata": {},
          "execution_count": 59
        },
        {
          "output_type": "display_data",
          "data": {
            "text/plain": [
              "<Figure size 432x288 with 2 Axes>"
            ],
            "image/png": "[encoded data removed]"
          },
          "metadata": {
            "needs_background": "light"
          }
        }
      ]
    },
    {
      "cell_type": "markdown",
      "source": [
        "\n",
        "\n",
        "Total no of peoples stay in the hotel and lead time have slightly positive correlation. \n",
        "\n",
        " adr is slightly correlated with total_people_stay, which makes sense as more no. of people means more revenue, therefore more adr.\n",
        "\n",
        "\n",
        "\n",
        "\n",
        "\n",
        "\n"
      ],
      "metadata": {
        "id": "0Uhsx2zQ6iPr"
      }
    },
    {
      "cell_type": "markdown",
      "source": [
        "# Conclusion"
      ],
      "metadata": {
        "id": "So0snYAsmMaX"
      }
    },
    {
      "cell_type": "markdown",
      "source": [
        "![image.png](data:image/png;base64,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)"
      ],
      "metadata": {
        "id": "9a2bvokFl643"
      }
    },
    {
      "cell_type": "markdown",
      "source": [
        "## Thank you"
      ],
      "metadata": {
        "id": "YeIVEBHx7FOn"
      }
    }
  ]
}